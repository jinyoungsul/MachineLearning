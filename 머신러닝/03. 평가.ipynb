{
 "cells": [
  {
   "cell_type": "markdown",
   "id": "66d86bb5",
   "metadata": {},
   "source": [
    "## Chapter 3. 평가"
   ]
  },
  {
   "cell_type": "markdown",
   "id": "7c09f3f2",
   "metadata": {},
   "source": [
    "분류의 성능 평가 지표 <br>\n",
    "- 정확도\n",
    "- 오차행렬\n",
    "- 정밀도\n",
    "- 재현율\n",
    "- F1스코어\n",
    "- ROC AUC"
   ]
  },
  {
   "cell_type": "markdown",
   "id": "d5e3a423",
   "metadata": {},
   "source": [
    "### 01. 정확도"
   ]
  },
  {
   "cell_type": "markdown",
   "id": "7b760055",
   "metadata": {},
   "source": [
    "정확도는 실제 데이터에서 예측 데이터가 얼마나 같은지 판단하는 지표\n",
    "\n",
    "정확도 = 예측 결과가 동일한 건수 / 전체 예측 데이터 건수"
   ]
  },
  {
   "cell_type": "markdown",
   "id": "505c1eac",
   "metadata": {},
   "source": [
    "특히 정확도는 불균형한 레이블 값 분포에서 ML 모델의 성능을 판단할 경우, 적합한<br>\n",
    "성능 지표가 아님."
   ]
  },
  {
   "cell_type": "markdown",
   "id": "d486d842",
   "metadata": {},
   "source": [
    "멀티 레이블 데이터 세트를<br>\n",
    "레이블 값이 7인 것만 True, 나머지 값은 모두 False으로 변환해 이진 분류 문제로 바꿈"
   ]
  },
  {
   "cell_type": "code",
   "execution_count": 15,
   "id": "d92c6e7a",
   "metadata": {},
   "outputs": [],
   "source": [
    "from sklearn.datasets import load_digits\n",
    "from sklearn.model_selection import train_test_split\n",
    "from sklearn.metrics import accuracy_score\n",
    "from sklearn.base import BaseEstimator\n",
    "import numpy as np\n",
    "import pandas as pd\n",
    "\n",
    "class customClassifier(BaseEstimator):\n",
    "    def fit(self, X, y):\n",
    "        pass\n",
    "    \n",
    "    def predict(self, X):\n",
    "        return np.zeros((len(X), 1), dtype=bool)\n",
    "    \n",
    "digits = load_digits()\n",
    "# digits 번호가 7이면 1, 아니면 0으로 변환\n",
    "y = (digits.target==7).astype(int)\n",
    "X_train, X_test, y_train, y_test = train_test_split(digits.data, y, random_state=42)"
   ]
  },
  {
   "cell_type": "code",
   "execution_count": 16,
   "id": "361290c5",
   "metadata": {},
   "outputs": [
    {
     "name": "stdout",
     "output_type": "stream",
     "text": [
      "y_test 분포 :\n",
      "0    409\n",
      "1     41\n",
      "dtype: int64\n",
      "정확도 : 0.9089\n"
     ]
    }
   ],
   "source": [
    "print('y_test 분포 :')\n",
    "print(pd.Series(y_test).value_counts())\n",
    "\n",
    "customClf = customClassifier()\n",
    "customClf.fit(X_train, y_train)\n",
    "\n",
    "pred = customClf.predict(X_test)\n",
    "accuracy = accuracy_score(y_test, pred)\n",
    "print('정확도 : {0:.4f}'.format(accuracy))"
   ]
  },
  {
   "cell_type": "markdown",
   "id": "a1dc8698",
   "metadata": {},
   "source": [
    "단순히 predict() 결과를 0으로 반환함에도 불구하고 450개의 데이터 세트에<br>\n",
    "수행한 예측 정확도는 90%이다.<br>\n",
    "\n",
    "이처럼 정확도 평가 지표는 불균형한 레이블 데이터 세트에서는 성능 수치로 사용돼서는 안된다."
   ]
  },
  {
   "cell_type": "markdown",
   "id": "bea9f84f",
   "metadata": {},
   "source": [
    "### 02. 오차행렬"
   ]
  },
  {
   "cell_type": "markdown",
   "id": "23a80940",
   "metadata": {},
   "source": [
    "이진 분류에서 성능 지표로 잘 활용되는 오차행렬은 학습된 분류 모델이 예측을 수행하면서<br>\n",
    "얼마나 헷갈리고 있는지도 함께 보여주는 지표\n",
    "\n",
    "오차행렬은 4분면 행렬에서 실제 레이블 클래스 값과 예측 레이블 클래스 값이<br>\n",
    "어떤 유형을 가지고 매핑되는지 나타냄.\n",
    "\n",
    "4분면의 왼쪽, 오른쪽을 예측 클래스 값 기준으로 Negative, Positive로 분류<br>\n",
    "4분면의 위, 아래를 실제 클래스 값 기준으로 Negative, Positive로 분류"
   ]
  },
  {
   "cell_type": "code",
   "execution_count": 17,
   "id": "a075b60b",
   "metadata": {
    "scrolled": true
   },
   "outputs": [
    {
     "data": {
      "text/plain": [
       "array([[409,   0],\n",
       "       [ 41,   0]], dtype=int64)"
      ]
     },
     "execution_count": 17,
     "metadata": {},
     "output_type": "execute_result"
    }
   ],
   "source": [
    "from sklearn.metrics import confusion_matrix\n",
    "\n",
    "confusion_matrix(y_test, pred)"
   ]
  },
  {
   "cell_type": "markdown",
   "id": "a1141d6e",
   "metadata": {},
   "source": [
    "array[0, 0] = TN <br>\n",
    "array[0, 1] = FP <br>\n",
    "array[1, 0] = FN <br>\n",
    "array[1, 1] = TP <br>"
   ]
  },
  {
   "cell_type": "markdown",
   "id": "c390076c",
   "metadata": {},
   "source": [
    "TN, FP, FN, TP는 Classifier 성능의 여러 면모를 판단할 수 있는 기반 정보를 제공"
   ]
  },
  {
   "cell_type": "markdown",
   "id": "e31a8159",
   "metadata": {},
   "source": [
    "정확도 = 예측 데이터 건수 / 전체 데이터 건수 <br>\n",
    "       = (TN + TP) / (TN + FP + FN + TP)"
   ]
  },
  {
   "cell_type": "markdown",
   "id": "e366719e",
   "metadata": {},
   "source": [
    "### 03. 정밀도와 재현율"
   ]
  },
  {
   "cell_type": "markdown",
   "id": "70ab12cd",
   "metadata": {},
   "source": [
    "정밀도와 재현율은 Positive 데이터 세트의 예측 성능에 조금 더 초점을 맞춘 평가 지표.<br>\n",
    "정밀도는 예측을 Positive로 한 대상 중에 예측과 실제 값이 Positive로 일치한 데이터의 비율.<br>\n",
    "재현율은 실제 값이 Positive인 대상 중에 예측과 실제 값이 Positive로 일치한 데이터의 비율 => 민감도(Sensitivity) 또는 TPR(TruePositiveRate)라고도 불림"
   ]
  },
  {
   "cell_type": "markdown",
   "id": "08ab10c1",
   "metadata": {},
   "source": [
    "정밀도 = TP / (FP + TP)\n",
    "재현율 = TP / (FN + TP)"
   ]
  },
  {
   "cell_type": "markdown",
   "id": "8c687c72",
   "metadata": {},
   "source": [
    "재현율이 상대적으로 더 중요한 지표인 경우는 실제 Positive 양성인 데이터를 Negative로 잘못 판단하게 되면 업무 상 큰 영향이 발생하는 경우.<br>\n",
    "정밀도가 상대적으로 더 중요한 지표인 경우는 실제 Negative 음성인 데이터 예측을 Positive 양성으로 잘못 판단하게 되면 업무상 큰 영향이 발생하는 경우.<br>"
   ]
  },
  {
   "cell_type": "code",
   "execution_count": 1,
   "id": "f727f259",
   "metadata": {},
   "outputs": [],
   "source": [
    "from sklearn.preprocessing import LabelEncoder\n",
    "\n",
    "def fillna(df):\n",
    "    df['Age'].fillna(df['Age'].mean(), inplace=True)\n",
    "    df['Cabin'].fillna('N', inplace=True)\n",
    "    df['Embarked'].fillna('N', inplace=True)\n",
    "    df['Fare'].fillna(0, inplace=True)\n",
    "    return df\n",
    "    \n",
    "def drop_features(df):\n",
    "    df.drop(['PassengerId','Name','Ticket'], axis=1, inplace=True)\n",
    "    return df\n",
    "\n",
    "def format_features(df):\n",
    "    df['Cabin'] = df['Cabin'].str[:1]\n",
    "    features = ['Cabin', 'Sex', 'Embarked']\n",
    "    for feature in features:\n",
    "        le = LabelEncoder()\n",
    "        le.fit(df[feature])\n",
    "        df[feature] = le.transform(df[feature])\n",
    "    return df\n",
    "\n",
    "def transform_features(df):\n",
    "    df = fillna(df)\n",
    "    df = drop_features(df)\n",
    "    df = format_features(df)\n",
    "    return df"
   ]
  },
  {
   "cell_type": "code",
   "execution_count": 3,
   "id": "e937f2b4",
   "metadata": {},
   "outputs": [],
   "source": [
    "from sklearn.metrics import accuracy_score, precision_score, recall_score, confusion_matrix\n",
    "\n",
    "def get_clf_eval(y_test, y_pred):\n",
    "    cm = confusion_matrix(y_test, y_pred)\n",
    "    print('오차행렬 : ')\n",
    "    print(cm)\n",
    "    accuracy = accuracy_score(y_test, y_pred)\n",
    "    print('정확도 : ', accuracy)\n",
    "    precision = precision_score(y_test, y_pred)\n",
    "    print('정밀도 : ', precision)\n",
    "    recall = recall_score(y_test, y_pred)\n",
    "    print('재현율 : ', recall)"
   ]
  },
  {
   "cell_type": "code",
   "execution_count": 6,
   "id": "eb1e1751",
   "metadata": {},
   "outputs": [],
   "source": [
    "from sklearn.model_selection import train_test_split\n",
    "import pandas as pd\n",
    "import numpy as np\n",
    "\n",
    "train_df = pd.read_csv('./data/titanic/train.csv')\n",
    "\n",
    "y_train_df = train_df['Survived']\n",
    "X_train_df = train_df.drop(['Survived'], axis=1)\n",
    "\n",
    "X_train_df = transform_features(X_train_df)"
   ]
  },
  {
   "cell_type": "code",
   "execution_count": 4,
   "id": "5c028722",
   "metadata": {
    "scrolled": true
   },
   "outputs": [
    {
     "name": "stdout",
     "output_type": "stream",
     "text": [
      "오차행렬 : \n",
      "[[104  14]\n",
      " [ 13  48]]\n",
      "정확도 :  0.8491620111731844\n",
      "정밀도 :  0.7741935483870968\n",
      "재현율 :  0.7868852459016393\n"
     ]
    },
    {
     "name": "stderr",
     "output_type": "stream",
     "text": [
      "C:\\Users\\jysul\\AppData\\Roaming\\Python\\Python38\\site-packages\\sklearn\\linear_model\\_logistic.py:763: ConvergenceWarning: lbfgs failed to converge (status=1):\n",
      "STOP: TOTAL NO. of ITERATIONS REACHED LIMIT.\n",
      "\n",
      "Increase the number of iterations (max_iter) or scale the data as shown in:\n",
      "    https://scikit-learn.org/stable/modules/preprocessing.html\n",
      "Please also refer to the documentation for alternative solver options:\n",
      "    https://scikit-learn.org/stable/modules/linear_model.html#logistic-regression\n",
      "  n_iter_i = _check_optimize_result(\n"
     ]
    }
   ],
   "source": [
    "from sklearn.linear_model import LogisticRegression\n",
    "\n",
    "X_train, X_test, y_train, y_test = train_test_split(X_train_df, y_train_df, test_size=0.20, random_state=11)\n",
    "\n",
    "lr_clf = LogisticRegression()\n",
    "\n",
    "lr_clf.fit(X_train, y_train)\n",
    "y_pred = lr_clf.predict(X_test)\n",
    "get_clf_eval(y_test, y_pred)"
   ]
  },
  {
   "cell_type": "markdown",
   "id": "91b81601",
   "metadata": {},
   "source": [
    "#### 정밀도/재현율 트레이드오프"
   ]
  },
  {
   "cell_type": "markdown",
   "id": "3d486973",
   "metadata": {},
   "source": [
    "분류하려는 업무의 특성상 정밀도 또는 재현율을 특별히 강조돼야 할 경우 분류의\n",
    "결정 임계값(Threshold)을 조정해 정밀도 또는 재현율의 수치를 높일 수 있다."
   ]
  },
  {
   "cell_type": "code",
   "execution_count": 7,
   "id": "bbb818ca",
   "metadata": {
    "scrolled": true
   },
   "outputs": [
    {
     "name": "stdout",
     "output_type": "stream",
     "text": [
      "[[0.46175211 0.53824789 1.        ]\n",
      " [0.87863924 0.12136076 0.        ]\n",
      " [0.87717092 0.12282908 0.        ]]\n"
     ]
    },
    {
     "name": "stderr",
     "output_type": "stream",
     "text": [
      "C:\\Users\\jysul\\AppData\\Roaming\\Python\\Python38\\site-packages\\sklearn\\linear_model\\_logistic.py:763: ConvergenceWarning: lbfgs failed to converge (status=1):\n",
      "STOP: TOTAL NO. of ITERATIONS REACHED LIMIT.\n",
      "\n",
      "Increase the number of iterations (max_iter) or scale the data as shown in:\n",
      "    https://scikit-learn.org/stable/modules/preprocessing.html\n",
      "Please also refer to the documentation for alternative solver options:\n",
      "    https://scikit-learn.org/stable/modules/linear_model.html#logistic-regression\n",
      "  n_iter_i = _check_optimize_result(\n"
     ]
    }
   ],
   "source": [
    "X_train, X_test, y_train, y_test = train_test_split(X_train_df, y_train_df, test_size=0.20, random_state=11)\n",
    "\n",
    "lr_clf = LogisticRegression()\n",
    "\n",
    "lr_clf.fit(X_train, y_train)\n",
    "# predict_proba : 데이터 별로 예측 확률을 반환하는 메소드\n",
    "# 기본 임계값 : 0.5\n",
    "y_pred_proba = lr_clf.predict_proba(X_test)\n",
    "y_pred = lr_clf.predict(X_test)\n",
    "print(np.concatenate([y_pred_proba, y_pred.reshape(-1, 1)], axis=1)[:3])"
   ]
  },
  {
   "cell_type": "code",
   "execution_count": 9,
   "id": "7f4f5851",
   "metadata": {
    "scrolled": true
   },
   "outputs": [
    {
     "name": "stdout",
     "output_type": "stream",
     "text": [
      "오차행렬 : \n",
      "[[98 20]\n",
      " [10 51]]\n",
      "정확도 :  0.8324022346368715\n",
      "정밀도 :  0.7183098591549296\n",
      "재현율 :  0.8360655737704918\n"
     ]
    },
    {
     "name": "stderr",
     "output_type": "stream",
     "text": [
      "C:\\Users\\jysul\\AppData\\Roaming\\Python\\Python38\\site-packages\\sklearn\\linear_model\\_logistic.py:763: ConvergenceWarning: lbfgs failed to converge (status=1):\n",
      "STOP: TOTAL NO. of ITERATIONS REACHED LIMIT.\n",
      "\n",
      "Increase the number of iterations (max_iter) or scale the data as shown in:\n",
      "    https://scikit-learn.org/stable/modules/preprocessing.html\n",
      "Please also refer to the documentation for alternative solver options:\n",
      "    https://scikit-learn.org/stable/modules/linear_model.html#logistic-regression\n",
      "  n_iter_i = _check_optimize_result(\n"
     ]
    }
   ],
   "source": [
    "from sklearn.preprocessing import Binarizer\n",
    "\n",
    "custom_threshold = 0.4\n",
    "\n",
    "X_train, X_test, y_train, y_test = train_test_split(X_train_df, y_train_df, test_size=0.20, random_state=11)\n",
    "\n",
    "lr_clf = LogisticRegression()\n",
    "\n",
    "lr_clf.fit(X_train, y_train)\n",
    "# predict_proba : 데이터 별로 예측 확률을 반환하는 메소드\n",
    "# 기본 임계값 : 0.5\n",
    "y_pred_proba = lr_clf.predict_proba(X_test)\n",
    "\n",
    "y_pred_proba_1 = y_pred_proba[:,1].reshape(-1, 1)\n",
    "binarizer = Binarizer(threshold=custom_threshold).fit(y_pred_proba_1)\n",
    "custom_pred = binarizer.transform(y_pred_proba_1)\n",
    "\n",
    "get_clf_eval(y_test, custom_pred)\n"
   ]
  },
  {
   "cell_type": "markdown",
   "id": "847f2b71",
   "metadata": {},
   "source": [
    "### 04. F1 스코어"
   ]
  },
  {
   "cell_type": "markdown",
   "id": "5429987f",
   "metadata": {},
   "source": [
    "F1 스코어는 정밀도와 재현율을 결합한 지표. <br>\n",
    "정밀도와 재현율이 어느 한쪽으로 치우치지 않는 수치를 나타낼 때 상대적으로 높은 값을 가짐.<br>\n",
    "F1 스코어 = 2 * (정밀도 * 재현율) / (정밀도 + 재현율)"
   ]
  },
  {
   "cell_type": "code",
   "execution_count": 12,
   "id": "ffad9996",
   "metadata": {},
   "outputs": [
    {
     "name": "stdout",
     "output_type": "stream",
     "text": [
      "f1 스코어 : 0.7805\n"
     ]
    }
   ],
   "source": [
    "from sklearn.metrics import f1_score\n",
    "\n",
    "f1 = f1_score(y_test, y_pred)\n",
    "print('f1 스코어 : {0:.4f}'.format(f1))"
   ]
  },
  {
   "cell_type": "markdown",
   "id": "3f4162f9",
   "metadata": {},
   "source": [
    "### 05. ROC 곡선과 AUC"
   ]
  },
  {
   "cell_type": "code",
   "execution_count": null,
   "id": "95c66eed",
   "metadata": {},
   "outputs": [],
   "source": [
    "ROC 곡선은 FPR이 변할 때 TPR이 어떻게 변하는지 나타내는 곡선."
   ]
  },
  {
   "cell_type": "code",
   "execution_count": 14,
   "id": "739a75df",
   "metadata": {
    "scrolled": true
   },
   "outputs": [
    {
     "name": "stdout",
     "output_type": "stream",
     "text": [
      "샘플 추출을 위한 임곗값 배열의 index: [ 1  6 11 16 21 26 31 36 41 46 51]\n",
      " 샘플 index로 추출한 임계값: [0.97 0.65 0.63 0.56 0.45 0.4  0.35 0.15 0.13 0.11 0.11]\n",
      "샘플 임곗값별 FPR: [0.         0.01694915 0.03389831 0.07627119 0.12711864 0.16949153\n",
      " 0.20338983 0.46610169 0.58474576 0.68644068 0.79661017]\n",
      "샘플 임곗값별 TPR: [0.03278689 0.63934426 0.72131148 0.75409836 0.80327869 0.83606557\n",
      " 0.8852459  0.90163934 0.93442623 0.96721311 0.98360656]\n"
     ]
    },
    {
     "name": "stderr",
     "output_type": "stream",
     "text": [
      "C:\\Users\\jysul\\AppData\\Roaming\\Python\\Python38\\site-packages\\sklearn\\linear_model\\_logistic.py:763: ConvergenceWarning: lbfgs failed to converge (status=1):\n",
      "STOP: TOTAL NO. of ITERATIONS REACHED LIMIT.\n",
      "\n",
      "Increase the number of iterations (max_iter) or scale the data as shown in:\n",
      "    https://scikit-learn.org/stable/modules/preprocessing.html\n",
      "Please also refer to the documentation for alternative solver options:\n",
      "    https://scikit-learn.org/stable/modules/linear_model.html#logistic-regression\n",
      "  n_iter_i = _check_optimize_result(\n"
     ]
    }
   ],
   "source": [
    "from sklearn.metrics import roc_curve\n",
    "\n",
    "X_train, X_test, y_train, y_test = train_test_split(X_train_df, y_train_df, test_size=0.20, random_state=11)\n",
    "\n",
    "lr_clf = LogisticRegression()\n",
    "\n",
    "lr_clf.fit(X_train, y_train)\n",
    "# predict_proba : 데이터 별로 예측 확률을 반환하는 메소드\n",
    "# 기본 임계값 : 0.5\n",
    "y_pred_proba = lr_clf.predict_proba(X_test)\n",
    "\n",
    "y_pred_proba_1 = y_pred_proba[:,1].reshape(-1, 1)\n",
    "\n",
    "fprs, tprs, thresholds = roc_curve(y_test, y_pred_proba_1)\n",
    "\n",
    "# 반환된 임곗값 배열에서 샘플로 데이터를 추출하되, 임곗값을 5 step으로 추출\n",
    "# treshold[0]은 max(예측확률)+1로 임의 설정됨. 이를 제외하기 위해 np.arange는 1부터 시작\n",
    "thr_idx = np.arange(1, thresholds.shape[0], 5)\n",
    "\n",
    "print('샘플 추출을 위한 임곗값 배열의 index:', thr_idx)\n",
    "print(' 샘플 index로 추출한 임계값:', np.round(threshold[thr_idx], 2))\n",
    "\n",
    "# 5 step 단위로 추출된 임계값에 따른 FPR, TPR 값\n",
    "print('샘플 임곗값별 FPR:', fprs[thr_idx])\n",
    "print('샘플 임곗값별 TPR:', tprs[thr_idx])\n"
   ]
  },
  {
   "cell_type": "markdown",
   "id": "fc69d7b0",
   "metadata": {},
   "source": [
    "임곗값이 1에 가까운 값에서 점점 작아지면서 FPR이 점점 커짐.<br>\n",
    "FPR이 조금씩 커질 때 TPR은 가파르게 커짐을 알 수 있다."
   ]
  },
  {
   "cell_type": "code",
   "execution_count": 24,
   "id": "8a35968d",
   "metadata": {
    "scrolled": true
   },
   "outputs": [
    {
     "data": {
      "image/png": "[encoded data removed]",
      "text/plain": [
       "<Figure size 432x288 with 1 Axes>"
      ]
     },
     "metadata": {
      "needs_background": "light"
     },
     "output_type": "display_data"
    }
   ],
   "source": [
    "import matplotlib.pyplot as plt\n",
    "\n",
    "def roc_curve_plt(y_test, y_pred_proba):\n",
    "    fprs, tprs, thresholds = roc_curve(y_test, y_pred_proba)\n",
    "    \n",
    "    # ROC곡선을 그림\n",
    "    plt.plot(fprs, tprs, label='ROC')\n",
    "    # 가운데 대각선 직선을 그림\n",
    "    plt.plot([0,1], [0,1], 'k--', label='Random')\n",
    "    \n",
    "    start, end = plt.xlim()\n",
    "    plt.xticks(np.round(np.arange(start, end, 0.1), 2))\n",
    "    plt.xlim(0, 1)\n",
    "    plt.ylim(0, 1)\n",
    "    plt.xlabel('FPR( 1 - Sensitivity )')\n",
    "    plt.ylabel('TPR( Recall)')\n",
    "    plt.legend()\n",
    "\n",
    "roc_curve_plt(y_test, y_pred_proba_1)"
   ]
  },
  {
   "cell_type": "markdown",
   "id": "5c772eab",
   "metadata": {},
   "source": [
    "일반적으로 ROC 곡선 자체는 FPR과 TPR의 변화 값을 보는데 이용하며<br>\n",
    "성능 지표로 사용되는 것은 ROC 곡선 면적에 기반한 AUC 값으로 결정."
   ]
  },
  {
   "cell_type": "markdown",
   "id": "788417e6",
   "metadata": {},
   "source": [
    "AUC 값은 ROC 곡선 밑의 면적을 구한 것으로 일반적으로 1에 가까울수록 좋은 수치.<br>\n",
    "AUC 값이 커지려면 FPR이 작은 상태에서 얼마나 큰 TPR을 얻을 수 있느냐가 관건.<br>\n",
    "가운데 대각선 직선은 랜덤 수준의 이진 분류 AUC값으로 0.5.<br>\n",
    "따라서 보통의 분류는 0.5이상의 AUC 값을 가짐."
   ]
  },
  {
   "cell_type": "code",
   "execution_count": 25,
   "id": "d4411409",
   "metadata": {},
   "outputs": [
    {
     "name": "stdout",
     "output_type": "stream",
     "text": [
      "ROC AUC 값 : 0.9024\n"
     ]
    }
   ],
   "source": [
    "from sklearn.metrics import roc_auc_score\n",
    "\n",
    "roc_score = roc_auc_score(y_test, y_pred_proba_1)\n",
    "print('ROC AUC 값 : {0:.4f}'.format(roc_score))"
   ]
  }
 ],
 "metadata": {
  "kernelspec": {
   "display_name": "Python 3",
   "language": "python",
   "name": "python3"
  },
  "language_info": {
   "codemirror_mode": {
    "name": "ipython",
    "version": 3
   },
   "file_extension": ".py",
   "mimetype": "text/x-python",
   "name": "python",
   "nbconvert_exporter": "python",
   "pygments_lexer": "ipython3",
   "version": "3.8.8"
  }
 },
 "nbformat": 4,
 "nbformat_minor": 5
}
