{
 "cells": [
  {
   "cell_type": "markdown",
   "id": "f5016c15",
   "metadata": {},
   "source": [
    "## Chapter 5. 회귀"
   ]
  },
  {
   "cell_type": "markdown",
   "id": "8465c64d",
   "metadata": {},
   "source": [
    "### 01. 회귀 소개"
   ]
  },
  {
   "cell_type": "markdown",
   "id": "a85d985d",
   "metadata": {},
   "source": [
    "회귀분석은 데이터 값이 평균과 같은 일정한 값으로 돌아가려는 경향을 이용한 통계학 기법.<br>\n",
    "통계학 용어를 빌리자면 회귀는 여러개의 독립변수와 한 개의 종속변수 간의 상관관계를 모델링하는 기법을 통칭\n",
    "\n",
    "ex) 아파트의 방 개수, 방 크기, 주변 학군 등 여러 개의 독립변수에 따라 아파트 가격이라는 종속변수가 어떤 관계를 나타내는지를\n",
    "모델링하고 예측하는 것."
   ]
  },
  {
   "cell_type": "markdown",
   "id": "b2d7a6da",
   "metadata": {},
   "source": [
    "회귀는 회귀 계수의 선형/비선형 여부, 독립변수의 개수, 종속변수의 개수에 따라 여러 가지 유형으로 나눌 수 있다.<br>\n",
    "회귀에서 가장 중요한 것은 회귀 계수. 이 회귀 계수가 선형이냐, 아니냐에 따라 선형 회귀와 비선형 회귀로 나눔.<br>\n",
    "독립 변수의 개수가 한 개인지 여러 개인지에 따라 단일 회귀, 다중 회귀로 나눔."
   ]
  },
  {
   "cell_type": "markdown",
   "id": "abed67f2",
   "metadata": {},
   "source": [
    "선형 회귀는 실제 값과 예측값의 차이를 최소화하는 직선형 회귀선을 최적화하는 방식.\n",
    "선형 회귀 모델은 규제(Regularization) 방법에 따라 다시 별도의 유형으로 나뉨.\n",
    "\n",
    "- 일반 선형 회귀 : 실제 값과 예측값의 RSS(Residual Sum of Squares)를 최소화할 수 있도록 회귀 계수를 최적화하며, 규제를 적용하지 않은 모델.\n",
    "- 릿지(Ridge) : 릿지 회귀는 선형 회귀에 L2 규제를 추가한 회귀 모델. L2 규제는 상대적으로 큰 회귀 계수 값의 예측 영향도를 감소시키기 위해서 회귀 계수값을 더 작게 만드는 규제 모델.\n",
    "- 라쏘(Lasso) : 라쏘 회귀는 선형 회귀에 L1 규제를 추가한 회귀 모델. L1 규제는 예측 영향력이 작은 피처의 회귀 계수를 0으로 만들어 회귀 예측 시 피처가 선택되지 않게 하는 것.\n",
    "- 엘라스틱넷(ElasticNet) : L2, L1 규제를 함께 결합한 모델. L1 규제로 피처의 개수를 줄임과 동시에 L2 규제로 계수 값의 크기를 조정"
   ]
  },
  {
   "cell_type": "markdown",
   "id": "cfe3f269",
   "metadata": {},
   "source": [
    "### 02. 비용 최소화하기 - 경사 하강법(Gradient Descent) 소개"
   ]
  },
  {
   "cell_type": "markdown",
   "id": "8fa337e5",
   "metadata": {},
   "source": [
    "'점진적으로' 반복적인 계산을 통해, W 파라미터 값을 업데이트하면서 오류 값이 최소가 되는 W 파라미터를 구하는 방식"
   ]
  },
  {
   "cell_type": "code",
   "execution_count": 3,
   "id": "9949869d",
   "metadata": {
    "scrolled": true
   },
   "outputs": [
    {
     "data": {
      "text/plain": [
       "<matplotlib.collections.PathCollection at 0x1eb5988edf0>"
      ]
     },
     "execution_count": 3,
     "metadata": {},
     "output_type": "execute_result"
    },
    {
     "data": {
      "image/png": "[encoded data removed]",
      "text/plain": [
       "<Figure size 432x288 with 1 Axes>"
      ]
     },
     "metadata": {
      "needs_background": "light"
     },
     "output_type": "display_data"
    }
   ],
   "source": [
    "import numpy as np\n",
    "import matplotlib.pyplot as plt\n",
    "%matplotlib inline\n",
    "\n",
    "np.random.seed(0)\n",
    "# y = 4X + 6을 근사 (W1 = 4, W0 = 6)\n",
    "X = 2 * np.random.rand(100, 1)\n",
    "y = 6 + 4 * X + np.random.rand(100, 1)\n",
    "\n",
    "plt.scatter(X, y)"
   ]
  },
  {
   "cell_type": "code",
   "execution_count": 16,
   "id": "e4d9a05f",
   "metadata": {},
   "outputs": [],
   "source": [
    "def get_cost(y, y_pred):\n",
    "    N = len(y)\n",
    "    cost = np.sum(np.square(y - y_pred)) / N\n",
    "    return cost"
   ]
  },
  {
   "cell_type": "code",
   "execution_count": 28,
   "id": "184752c8",
   "metadata": {},
   "outputs": [],
   "source": [
    "def get_weight_update(w1, w0, X, y, learing_rate=0.01):\n",
    "    N = len(X)\n",
    "    w1_update = np.zeros_like(w1)\n",
    "    w0_update = np.zeros_like(w0)\n",
    "    \n",
    "    y_pred = np.dot(X, w1.T) + w0\n",
    "    diff = y - y_pred\n",
    "    \n",
    "    w0_factors = np.ones((N, 1))\n",
    "    \n",
    "    w1_update -= 2/N*learing_rate*(np.dot(X.T, diff))\n",
    "    w0_update -= 2/N*learing_rate*(np.dot(w0_factors.T, diff))\n",
    "    \n",
    "    return w1_update, w0_update"
   ]
  },
  {
   "cell_type": "code",
   "execution_count": 10,
   "id": "84b7b542",
   "metadata": {},
   "outputs": [],
   "source": [
    "def gradient_descent_steps(X, y, iters = 10000):\n",
    "    w1 = np.zeros((1, 1))\n",
    "    w0 = np.zeros((1, 1))\n",
    "    \n",
    "    for ind in range(iters):\n",
    "        w1_update, w0_update = get_weight_update(w1, w0, X, y, learing_rate=0.01)\n",
    "        w1 = w1 - w1_update\n",
    "        w0 = w0 - w0_update\n",
    "        \n",
    "    return w1, w0"
   ]
  },
  {
   "cell_type": "code",
   "execution_count": 32,
   "id": "164a55a9",
   "metadata": {
    "scrolled": true
   },
   "outputs": [
    {
     "name": "stdout",
     "output_type": "stream",
     "text": [
      "w1 : 4.028, w0 : 6.490\n",
      "Gradient Descent Total Cost : 0.0775\n"
     ]
    }
   ],
   "source": [
    "w1, w0 = gradient_descent_steps(X, y, iters=1000)\n",
    "print('w1 : {0:.3f}, w0 : {1:.3f}'.format(w1[0, 0], w0[0, 0]))\n",
    "y_pred = w1[0, 0] * X + w0\n",
    "print('Gradient Descent Total Cost : {0:.4f}'.format(get_cost(y, y_pred)))"
   ]
  },
  {
   "cell_type": "code",
   "execution_count": 33,
   "id": "a1d59b13",
   "metadata": {
    "scrolled": true
   },
   "outputs": [
    {
     "data": {
      "text/plain": [
       "[<matplotlib.lines.Line2D at 0x1eb5be382b0>]"
      ]
     },
     "execution_count": 33,
     "metadata": {},
     "output_type": "execute_result"
    },
    {
     "data": {
      "image/png": "[encoded data removed]",
      "text/plain": [
       "<Figure size 432x288 with 1 Axes>"
      ]
     },
     "metadata": {
      "needs_background": "light"
     },
     "output_type": "display_data"
    }
   ],
   "source": [
    "plt.scatter(X, y)\n",
    "plt.plot(X, y_pred)"
   ]
  },
  {
   "cell_type": "markdown",
   "id": "bc5ebfb3",
   "metadata": {},
   "source": [
    "실제 선형식인 y = 4X + 6과 유사하게 w1은 4.028, w0은 6.490이 도출됨.<br>\n",
    "예측 오류 비용은 약 0.0775<br>\n",
    "경사 하강법을 이용해 회귀선이 잘 만들어졌음을 알 수 있다."
   ]
  },
  {
   "cell_type": "markdown",
   "id": "236a77b8",
   "metadata": {},
   "source": [
    "일반적으로 경사 하강법은 모든 학습 데이터에 대해 반복적으로 비용함수 최소화를 위한 값을\n",
    "업데이트하기 때문에 수행 시간이 매우 오래 걸린다는 단점이 있다.<br>\n",
    "그 때문에 실전에서는 대부분 확률적 경사 하강법(Stochastic Gradient Descent)를 이용한다."
   ]
  },
  {
   "cell_type": "markdown",
   "id": "e9624ab5",
   "metadata": {},
   "source": [
    "#### 확률적 경사 하강법"
   ]
  },
  {
   "cell_type": "code",
   "execution_count": 59,
   "id": "3e3e1991",
   "metadata": {},
   "outputs": [],
   "source": [
    "def stochastic_gradient_descent_steps(X, y ,batch_size = 10, iters = 1000):\n",
    "    w1 = np.zeros((1, 1))\n",
    "    w0 = np.zeros((1, 1))\n",
    "    \n",
    "    for ind in range(iters):\n",
    "        np.random.seed(ind)\n",
    "        \n",
    "        stochastic_random_index = np.random.permutation(X.shape[0])\n",
    "        sample_X = X[stochastic_random_index[0 : batch_size]]\n",
    "        sample_y = y[stochastic_random_index[0 : batch_size]]\n",
    "        \n",
    "        w1_update, w0_update = get_weight_update(w1, w0, sample_X, sample_y)\n",
    "        w1 = w1 - w1_update\n",
    "        w0 = w0 - w0_update\n",
    "    \n",
    "    return w1, w0"
   ]
  },
  {
   "cell_type": "code",
   "execution_count": 58,
   "id": "ebfd5c35",
   "metadata": {
    "scrolled": true
   },
   "outputs": [
    {
     "name": "stdout",
     "output_type": "stream",
     "text": [
      "w1 : 4.031, w0 : 6.486\n",
      "Stochastic Gradient Descent Total Cost : 0.0777\n"
     ]
    }
   ],
   "source": [
    "w1, w0 = stochastic_gradient_descent_steps(X, y, batch_size=10, iters=1000)\n",
    "print('w1 : {0:.3f}, w0 : {1:.3f}'.format(w1[0, 0], w0[0, 0]))\n",
    "y_pred = w1[0, 0] * X + w0\n",
    "print('Stochastic Gradient Descent Total Cost : {0:.4f}'.format(get_cost(y, y_pred)))"
   ]
  },
  {
   "cell_type": "markdown",
   "id": "27cb338c",
   "metadata": {},
   "source": [
    "### 03. 사이킷런 Linear Regression을 이용한 보스턴 주택 가격 예측"
   ]
  },
  {
   "cell_type": "markdown",
   "id": "5826dff8",
   "metadata": {},
   "source": [
    "#### LinearRegression 클래스 - Ordinary Least Squares"
   ]
  },
  {
   "cell_type": "markdown",
   "id": "07b4b385",
   "metadata": {},
   "source": [
    "LinearRegression 클래스는 예측값과 실제 값의 RSS(Residual Sum of Squares)를 최소화해\n",
    "OLS(Ordinary Least Squares) 추정 방식으로 구현한 클래스이다."
   ]
  },
  {
   "cell_type": "markdown",
   "id": "06b15d8b",
   "metadata": {},
   "source": [
    "OLS 기반의 회귀 계수 계산은 입력 피처의 독립성의 많은 영향을 받는다.<br>\n",
    "피처 간의 상관관계가 매우 높은 경우 분산이 매우 커져서 오류에 매우 민감해짐.<br>\n",
    "이러한 현상을 다중공선성(multi-collinearity) 문제라고 함."
   ]
  },
  {
   "cell_type": "markdown",
   "id": "86f52bf8",
   "metadata": {},
   "source": [
    "일반적으로 상관계수가 높은 피처가 많은 경우 독립적인 중요한 피처만 남기고 제거하거나\n",
    "규제를 적용.<br>\n",
    "또한 많은 피처가 다중 공선성 문제를 가지고 있다면 PCA를 통해 차원 축소를 수행하는것도 고려."
   ]
  },
  {
   "cell_type": "markdown",
   "id": "e0671e3a",
   "metadata": {},
   "source": [
    "#### LinearRegression을 이용해 보스턴 주택 가격 회귀 구현"
   ]
  },
  {
   "cell_type": "code",
   "execution_count": 6,
   "id": "bfb5c7b1",
   "metadata": {
    "scrolled": false
   },
   "outputs": [
    {
     "data": {
      "text/html": [
       "<div>\n",
       "<style scoped>\n",
       "    .dataframe tbody tr th:only-of-type {\n",
       "        vertical-align: middle;\n",
       "    }\n",
       "\n",
       "    .dataframe tbody tr th {\n",
       "        vertical-align: top;\n",
       "    }\n",
       "\n",
       "    .dataframe thead th {\n",
       "        text-align: right;\n",
       "    }\n",
       "</style>\n",
       "<table border=\"1\" class=\"dataframe\">\n",
       "  <thead>\n",
       "    <tr style=\"text-align: right;\">\n",
       "      <th></th>\n",
       "      <th>CRIM</th>\n",
       "      <th>ZN</th>\n",
       "      <th>INDUS</th>\n",
       "      <th>CHAS</th>\n",
       "      <th>NOX</th>\n",
       "      <th>RM</th>\n",
       "      <th>AGE</th>\n",
       "      <th>DIS</th>\n",
       "      <th>RAD</th>\n",
       "      <th>TAX</th>\n",
       "      <th>PTRATIO</th>\n",
       "      <th>B</th>\n",
       "      <th>LSTAT</th>\n",
       "      <th>PRICE</th>\n",
       "    </tr>\n",
       "  </thead>\n",
       "  <tbody>\n",
       "    <tr>\n",
       "      <th>0</th>\n",
       "      <td>0.00632</td>\n",
       "      <td>18.0</td>\n",
       "      <td>2.31</td>\n",
       "      <td>0.0</td>\n",
       "      <td>0.538</td>\n",
       "      <td>6.575</td>\n",
       "      <td>65.2</td>\n",
       "      <td>4.0900</td>\n",
       "      <td>1.0</td>\n",
       "      <td>296.0</td>\n",
       "      <td>15.3</td>\n",
       "      <td>396.90</td>\n",
       "      <td>4.98</td>\n",
       "      <td>24.0</td>\n",
       "    </tr>\n",
       "    <tr>\n",
       "      <th>1</th>\n",
       "      <td>0.02731</td>\n",
       "      <td>0.0</td>\n",
       "      <td>7.07</td>\n",
       "      <td>0.0</td>\n",
       "      <td>0.469</td>\n",
       "      <td>6.421</td>\n",
       "      <td>78.9</td>\n",
       "      <td>4.9671</td>\n",
       "      <td>2.0</td>\n",
       "      <td>242.0</td>\n",
       "      <td>17.8</td>\n",
       "      <td>396.90</td>\n",
       "      <td>9.14</td>\n",
       "      <td>21.6</td>\n",
       "    </tr>\n",
       "    <tr>\n",
       "      <th>2</th>\n",
       "      <td>0.02729</td>\n",
       "      <td>0.0</td>\n",
       "      <td>7.07</td>\n",
       "      <td>0.0</td>\n",
       "      <td>0.469</td>\n",
       "      <td>7.185</td>\n",
       "      <td>61.1</td>\n",
       "      <td>4.9671</td>\n",
       "      <td>2.0</td>\n",
       "      <td>242.0</td>\n",
       "      <td>17.8</td>\n",
       "      <td>392.83</td>\n",
       "      <td>4.03</td>\n",
       "      <td>34.7</td>\n",
       "    </tr>\n",
       "    <tr>\n",
       "      <th>3</th>\n",
       "      <td>0.03237</td>\n",
       "      <td>0.0</td>\n",
       "      <td>2.18</td>\n",
       "      <td>0.0</td>\n",
       "      <td>0.458</td>\n",
       "      <td>6.998</td>\n",
       "      <td>45.8</td>\n",
       "      <td>6.0622</td>\n",
       "      <td>3.0</td>\n",
       "      <td>222.0</td>\n",
       "      <td>18.7</td>\n",
       "      <td>394.63</td>\n",
       "      <td>2.94</td>\n",
       "      <td>33.4</td>\n",
       "    </tr>\n",
       "    <tr>\n",
       "      <th>4</th>\n",
       "      <td>0.06905</td>\n",
       "      <td>0.0</td>\n",
       "      <td>2.18</td>\n",
       "      <td>0.0</td>\n",
       "      <td>0.458</td>\n",
       "      <td>7.147</td>\n",
       "      <td>54.2</td>\n",
       "      <td>6.0622</td>\n",
       "      <td>3.0</td>\n",
       "      <td>222.0</td>\n",
       "      <td>18.7</td>\n",
       "      <td>396.90</td>\n",
       "      <td>5.33</td>\n",
       "      <td>36.2</td>\n",
       "    </tr>\n",
       "    <tr>\n",
       "      <th>...</th>\n",
       "      <td>...</td>\n",
       "      <td>...</td>\n",
       "      <td>...</td>\n",
       "      <td>...</td>\n",
       "      <td>...</td>\n",
       "      <td>...</td>\n",
       "      <td>...</td>\n",
       "      <td>...</td>\n",
       "      <td>...</td>\n",
       "      <td>...</td>\n",
       "      <td>...</td>\n",
       "      <td>...</td>\n",
       "      <td>...</td>\n",
       "      <td>...</td>\n",
       "    </tr>\n",
       "    <tr>\n",
       "      <th>501</th>\n",
       "      <td>0.06263</td>\n",
       "      <td>0.0</td>\n",
       "      <td>11.93</td>\n",
       "      <td>0.0</td>\n",
       "      <td>0.573</td>\n",
       "      <td>6.593</td>\n",
       "      <td>69.1</td>\n",
       "      <td>2.4786</td>\n",
       "      <td>1.0</td>\n",
       "      <td>273.0</td>\n",
       "      <td>21.0</td>\n",
       "      <td>391.99</td>\n",
       "      <td>9.67</td>\n",
       "      <td>22.4</td>\n",
       "    </tr>\n",
       "    <tr>\n",
       "      <th>502</th>\n",
       "      <td>0.04527</td>\n",
       "      <td>0.0</td>\n",
       "      <td>11.93</td>\n",
       "      <td>0.0</td>\n",
       "      <td>0.573</td>\n",
       "      <td>6.120</td>\n",
       "      <td>76.7</td>\n",
       "      <td>2.2875</td>\n",
       "      <td>1.0</td>\n",
       "      <td>273.0</td>\n",
       "      <td>21.0</td>\n",
       "      <td>396.90</td>\n",
       "      <td>9.08</td>\n",
       "      <td>20.6</td>\n",
       "    </tr>\n",
       "    <tr>\n",
       "      <th>503</th>\n",
       "      <td>0.06076</td>\n",
       "      <td>0.0</td>\n",
       "      <td>11.93</td>\n",
       "      <td>0.0</td>\n",
       "      <td>0.573</td>\n",
       "      <td>6.976</td>\n",
       "      <td>91.0</td>\n",
       "      <td>2.1675</td>\n",
       "      <td>1.0</td>\n",
       "      <td>273.0</td>\n",
       "      <td>21.0</td>\n",
       "      <td>396.90</td>\n",
       "      <td>5.64</td>\n",
       "      <td>23.9</td>\n",
       "    </tr>\n",
       "    <tr>\n",
       "      <th>504</th>\n",
       "      <td>0.10959</td>\n",
       "      <td>0.0</td>\n",
       "      <td>11.93</td>\n",
       "      <td>0.0</td>\n",
       "      <td>0.573</td>\n",
       "      <td>6.794</td>\n",
       "      <td>89.3</td>\n",
       "      <td>2.3889</td>\n",
       "      <td>1.0</td>\n",
       "      <td>273.0</td>\n",
       "      <td>21.0</td>\n",
       "      <td>393.45</td>\n",
       "      <td>6.48</td>\n",
       "      <td>22.0</td>\n",
       "    </tr>\n",
       "    <tr>\n",
       "      <th>505</th>\n",
       "      <td>0.04741</td>\n",
       "      <td>0.0</td>\n",
       "      <td>11.93</td>\n",
       "      <td>0.0</td>\n",
       "      <td>0.573</td>\n",
       "      <td>6.030</td>\n",
       "      <td>80.8</td>\n",
       "      <td>2.5050</td>\n",
       "      <td>1.0</td>\n",
       "      <td>273.0</td>\n",
       "      <td>21.0</td>\n",
       "      <td>396.90</td>\n",
       "      <td>7.88</td>\n",
       "      <td>11.9</td>\n",
       "    </tr>\n",
       "  </tbody>\n",
       "</table>\n",
       "<p>506 rows × 14 columns</p>\n",
       "</div>"
      ],
      "text/plain": [
       "        CRIM    ZN  INDUS  CHAS    NOX     RM   AGE     DIS  RAD    TAX  \\\n",
       "0    0.00632  18.0   2.31   0.0  0.538  6.575  65.2  4.0900  1.0  296.0   \n",
       "1    0.02731   0.0   7.07   0.0  0.469  6.421  78.9  4.9671  2.0  242.0   \n",
       "2    0.02729   0.0   7.07   0.0  0.469  7.185  61.1  4.9671  2.0  242.0   \n",
       "3    0.03237   0.0   2.18   0.0  0.458  6.998  45.8  6.0622  3.0  222.0   \n",
       "4    0.06905   0.0   2.18   0.0  0.458  7.147  54.2  6.0622  3.0  222.0   \n",
       "..       ...   ...    ...   ...    ...    ...   ...     ...  ...    ...   \n",
       "501  0.06263   0.0  11.93   0.0  0.573  6.593  69.1  2.4786  1.0  273.0   \n",
       "502  0.04527   0.0  11.93   0.0  0.573  6.120  76.7  2.2875  1.0  273.0   \n",
       "503  0.06076   0.0  11.93   0.0  0.573  6.976  91.0  2.1675  1.0  273.0   \n",
       "504  0.10959   0.0  11.93   0.0  0.573  6.794  89.3  2.3889  1.0  273.0   \n",
       "505  0.04741   0.0  11.93   0.0  0.573  6.030  80.8  2.5050  1.0  273.0   \n",
       "\n",
       "     PTRATIO       B  LSTAT  PRICE  \n",
       "0       15.3  396.90   4.98   24.0  \n",
       "1       17.8  396.90   9.14   21.6  \n",
       "2       17.8  392.83   4.03   34.7  \n",
       "3       18.7  394.63   2.94   33.4  \n",
       "4       18.7  396.90   5.33   36.2  \n",
       "..       ...     ...    ...    ...  \n",
       "501     21.0  391.99   9.67   22.4  \n",
       "502     21.0  396.90   9.08   20.6  \n",
       "503     21.0  396.90   5.64   23.9  \n",
       "504     21.0  393.45   6.48   22.0  \n",
       "505     21.0  396.90   7.88   11.9  \n",
       "\n",
       "[506 rows x 14 columns]"
      ]
     },
     "execution_count": 6,
     "metadata": {},
     "output_type": "execute_result"
    }
   ],
   "source": [
    "from sklearn.datasets import load_boston\n",
    "from sklearn.linear_model import LinearRegression\n",
    "from sklearn.metrics import mean_squared_error, r2_score\n",
    "from sklearn.model_selection import train_test_split\n",
    "from scipy import stats\n",
    "import pandas as pd\n",
    "import numpy as np\n",
    "\n",
    "boston = load_boston()\n",
    "boston_df = pd.DataFrame(boston.data, columns=boston.feature_names)\n",
    "boston_df['PRICE'] = boston.target\n",
    "boston_df"
   ]
  },
  {
   "cell_type": "code",
   "execution_count": 4,
   "id": "66df541f",
   "metadata": {
    "scrolled": false
   },
   "outputs": [
    {
     "name": "stdout",
     "output_type": "stream",
     "text": [
      "<class 'pandas.core.frame.DataFrame'>\n",
      "RangeIndex: 506 entries, 0 to 505\n",
      "Data columns (total 14 columns):\n",
      " #   Column   Non-Null Count  Dtype  \n",
      "---  ------   --------------  -----  \n",
      " 0   CRIM     506 non-null    float64\n",
      " 1   ZN       506 non-null    float64\n",
      " 2   INDUS    506 non-null    float64\n",
      " 3   CHAS     506 non-null    float64\n",
      " 4   NOX      506 non-null    float64\n",
      " 5   RM       506 non-null    float64\n",
      " 6   AGE      506 non-null    float64\n",
      " 7   DIS      506 non-null    float64\n",
      " 8   RAD      506 non-null    float64\n",
      " 9   TAX      506 non-null    float64\n",
      " 10  PTRATIO  506 non-null    float64\n",
      " 11  B        506 non-null    float64\n",
      " 12  LSTAT    506 non-null    float64\n",
      " 13  PRICE    506 non-null    float64\n",
      "dtypes: float64(14)\n",
      "memory usage: 55.5 KB\n"
     ]
    }
   ],
   "source": [
    "# 데이터의 정보 파악\n",
    "# 506 row , null값이 없으며 , 전부 float 타입\n",
    "boston_df.info()"
   ]
  },
  {
   "cell_type": "markdown",
   "id": "d333fbfa",
   "metadata": {},
   "source": [
    "각 컬럼이 회귀 결과에 미치는 영향이 어느 정도인지 시각화"
   ]
  },
  {
   "cell_type": "markdown",
   "id": "bf06ef28",
   "metadata": {},
   "source": [
    "RM(방 개수)은 양의 선형성이 가장 크며, LSTAT(하위 계층의 비율)는 음의 선형성이 가장 크다."
   ]
  },
  {
   "cell_type": "code",
   "execution_count": 9,
   "id": "9a6b1d37",
   "metadata": {
    "scrolled": true
   },
   "outputs": [
    {
     "data": {
      "image/png": "[encoded data removed]",
      "text/plain": [
       "<Figure size 1152x576 with 8 Axes>"
      ]
     },
     "metadata": {
      "needs_background": "light"
     },
     "output_type": "display_data"
    }
   ],
   "source": [
    "import matplotlib.pyplot as plt\n",
    "import seaborn as sns\n",
    "import warnings\n",
    "warnings.filterwarnings('ignore')\n",
    "%matplotlib inline\n",
    "\n",
    "lm_features = ['RM', 'ZN', 'INDUS', 'NOX', 'AGE', 'PTRATIO', 'LSTAT', 'RAD']\n",
    "fig, ax = plt.subplots(2, 4, figsize=(16,8))\n",
    "for idx, feature in enumerate(lm_features):\n",
    "    row = int(idx / 4)\n",
    "    col = idx % 4\n",
    "    \n",
    "    sns.regplot(feature, 'PRICE', data = boston_df, ax = ax[row][col])"
   ]
  },
  {
   "cell_type": "code",
   "execution_count": 22,
   "id": "3700ddb4",
   "metadata": {},
   "outputs": [
    {
     "name": "stdout",
     "output_type": "stream",
     "text": [
      "mse : 24.2911194749736 rmse : 4.928602182665345 \n",
      "Variance score : 0.6687594935356309\n",
      " 5 folds의 평균 RMSE scores : 5.829\n"
     ]
    }
   ],
   "source": [
    "X = boston_df.iloc[:,:-1]\n",
    "y = boston_df['PRICE']\n",
    "\n",
    "X_train, X_test, y_train, y_test = train_test_split(X, y, test_size=0.2, random_state=42)\n",
    "\n",
    "lr = LinearRegression()\n",
    "lr.fit(X_train, y_train)\n",
    "y_preds = lr.predict(X_test)\n",
    "\n",
    "mse = mean_squared_error(y_test, y_preds)\n",
    "rmse = np.sqrt(mse)\n",
    "print('mse : {0} rmse : {1} '.format(mse, rmse))\n",
    "print('Variance score : {0}'.format(r2_score(y_test, y_preds)))\n",
    "\n",
    "neg_mse_scores = cross_val_score(lr, X, y, scoring='neg_mean_squared_error', cv=5)\n",
    "rmse_scores = np.sqrt( -1 * neg_mse_scores)\n",
    "avg_rmse = np.mean(rmse_scores)\n",
    "\n",
    "print(' 5 folds의 평균 RMSE scores : {0:.3f}'.format(avg_rmse))"
   ]
  },
  {
   "cell_type": "code",
   "execution_count": 9,
   "id": "23ea2e71",
   "metadata": {
    "scrolled": true
   },
   "outputs": [
    {
     "name": "stdout",
     "output_type": "stream",
     "text": [
      "절편 값 :  30.246750993923488\n",
      "회귀 계수값 :  [ -0.1   0.    0.    2.8 -17.2   4.4  -0.   -1.4   0.3  -0.   -0.9   0.\n",
      "  -0.5]\n"
     ]
    }
   ],
   "source": [
    "print('절편 값 : ', lr.intercept_)\n",
    "print('회귀 계수값 : ', np.round(lr.coef_, 1))"
   ]
  },
  {
   "cell_type": "code",
   "execution_count": 14,
   "id": "711daf47",
   "metadata": {},
   "outputs": [
    {
     "data": {
      "text/plain": [
       "RM          4.4\n",
       "CHAS        2.8\n",
       "RAD         0.3\n",
       "ZN          0.0\n",
       "INDUS       0.0\n",
       "AGE        -0.0\n",
       "TAX        -0.0\n",
       "B           0.0\n",
       "CRIM       -0.1\n",
       "LSTAT      -0.5\n",
       "PTRATIO    -0.9\n",
       "DIS        -1.4\n",
       "NOX       -17.2\n",
       "dtype: float64"
      ]
     },
     "execution_count": 14,
     "metadata": {},
     "output_type": "execute_result"
    }
   ],
   "source": [
    "coeff = pd.Series(np.round(lr.coef_, 1), index=X_train.columns)\n",
    "coeff.sort_values(ascending=False)"
   ]
  },
  {
   "cell_type": "markdown",
   "id": "65d8eabd",
   "metadata": {},
   "source": [
    "### 04. 다항 회귀와 과대적합/과소적합 이해"
   ]
  },
  {
   "cell_type": "markdown",
   "id": "4d403e03",
   "metadata": {},
   "source": [
    "#### 다항 회귀 이해"
   ]
  },
  {
   "cell_type": "markdown",
   "id": "05de1459",
   "metadata": {},
   "source": [
    "회귀가 독립변수의 단항식이 아닌 2차, 3차 방정식과 같은 다항식으로 표현되는 것을\n",
    "다항(Polynomial) 회귀라고 함."
   ]
  },
  {
   "cell_type": "code",
   "execution_count": 16,
   "id": "97c4b3f8",
   "metadata": {
    "scrolled": true
   },
   "outputs": [
    {
     "name": "stdout",
     "output_type": "stream",
     "text": [
      "일차 단항식 계수 피처 : \n",
      " [[0 1]\n",
      " [2 3]]\n",
      "변환된 2차 다항식 계수 : \n",
      " [[1. 0. 1. 0. 0. 1.]\n",
      " [1. 2. 3. 4. 6. 9.]]\n"
     ]
    }
   ],
   "source": [
    "from sklearn.preprocessing import PolynomialFeatures\n",
    "import numpy as np\n",
    "\n",
    "# 다항식으로 변환한 단항식 생성\n",
    "X = np.arange(4).reshape(2, 2)\n",
    "print('일차 단항식 계수 피처 : \\n', X)\n",
    "\n",
    "# degree = 2인 2차 다항식으로 변환하기 위해 PolynomialFeatures를 이용해 변환\n",
    "poly = PolynomialFeatures(degree=2)\n",
    "poly.fit(X)\n",
    "poly_ftr = poly.transform(X)\n",
    "print('변환된 2차 다항식 계수 : \\n', poly_ftr)"
   ]
  },
  {
   "cell_type": "markdown",
   "id": "ef60da05",
   "metadata": {},
   "source": [
    "#### 다항 회귀를 이용한 과소적합 및 과적합 이해"
   ]
  },
  {
   "cell_type": "markdown",
   "id": "e75dcc10",
   "metadata": {},
   "source": [
    "다항식의 차수가 높아질수록 매우 복잡한 피처 간의 관계까지 모델링이 가능.<br>\n",
    "다항 회귀의 차수(degree)를 높일수록 학습 데이터에만 너무 맞춘 학습이 이뤄져서 정작\n",
    "테스트 데이터 환경에서는 오히려 예측 정확도가 떨어짐"
   ]
  },
  {
   "cell_type": "markdown",
   "id": "a73e1748",
   "metadata": {},
   "source": [
    "#### 편향-분산 트레이드오프(Bias-Variance Trade off)"
   ]
  },
  {
   "cell_type": "markdown",
   "id": "c74f38e9",
   "metadata": {},
   "source": [
    "편향-분산 트레이드오프는 머신러닝이 극복해야 할 가장 중요한 이슈 중의 하나.<br>\n",
    "일반적으로 편향과 분산은 한 쪽이 높으면 한 쪽이 낮아지는 경향이 있다.<br>\n",
    "편향이 높으면 분산은 낮아지고(과소적합) 반대로 분산이 높으면 편향이 낮아진다(과적합)<br>\n",
    "편향과 분산이 서로 트레이드오프를 이루면서 오류 Cost 값이 최대로 낮아지는 모델을 구축하는 것이\n",
    "가장 효율적인 머신러닝 예측 모델을 만드는 방법이다."
   ]
  },
  {
   "cell_type": "markdown",
   "id": "b3266cd4",
   "metadata": {},
   "source": [
    "### 05. 규제 선형 모델 - 릿지, 라쏘, 엘라스틱넷"
   ]
  },
  {
   "cell_type": "markdown",
   "id": "de5f0b0f",
   "metadata": {},
   "source": [
    "#### 규제 선형 모델의 개요"
   ]
  },
  {
   "cell_type": "markdown",
   "id": "1188a8ae",
   "metadata": {},
   "source": [
    "비용 함수에 alpha 값으로 페널티를 부여해 회귀 계수 값의 크기를 감소시켜 과적합을 개선하는 방식을\n",
    "규제(Regularization)라고 부름.<br>\n",
    "규제는 크게 L2 방식과 L1 방식으로 구분.<br>\n",
    "L2 규제는 영향력이 큰 회귀 계수 값을 낮춤.<br>\n",
    "L1 규제는 영향력이 크지 않은 회귀 계수 값을 0으로 변환."
   ]
  },
  {
   "cell_type": "markdown",
   "id": "09171eef",
   "metadata": {},
   "source": [
    "#### 릿지 회귀"
   ]
  },
  {
   "cell_type": "code",
   "execution_count": 26,
   "id": "5b2f20a2",
   "metadata": {
    "scrolled": true
   },
   "outputs": [
    {
     "name": "stdout",
     "output_type": "stream",
     "text": [
      " 5 folds의 개별 Negative MSE scores :  [-11.422 -24.294 -28.144 -74.599 -28.517]\n",
      " 5 folds의 개별 RMSE scores :  [3.38  4.929 5.305 8.637 5.34 ]\n",
      " 5 folds의 평균 RMSE scores : 5.518\n"
     ]
    }
   ],
   "source": [
    "from sklearn.linear_model import Ridge\n",
    "from sklearn.model_selection import cross_val_score\n",
    "import seaborn as sns\n",
    "import matplotlib.pyplot as plt\n",
    "\n",
    "y_target = boston_df['PRICE']\n",
    "X_data = boston_df.drop(['PRICE'], axis=1)\n",
    "\n",
    "# alpha = 10으로 설정해 릿지 회귀 수행\n",
    "ridge = Ridge(alpha = 10)\n",
    "neg_mse_scores = cross_val_score(ridge, X_data, y_target, scoring='neg_mean_squared_error', cv=5)\n",
    "rmse_scores = np.sqrt(-1 * neg_mse_scores)\n",
    "avg_rmse = np.mean(rmse_scores)\n",
    "\n",
    "print(' 5 folds의 개별 Negative MSE scores : ', np.round(neg_mse_scores, 3))\n",
    "print(' 5 folds의 개별 RMSE scores : ', np.round(rmse_scores, 3))\n",
    "print(' 5 folds의 평균 RMSE scores : {0:.3f}'.format(avg_rmse))"
   ]
  },
  {
   "cell_type": "code",
   "execution_count": 23,
   "id": "d1ee5030",
   "metadata": {},
   "outputs": [
    {
     "name": "stdout",
     "output_type": "stream",
     "text": [
      "alpha 0일 때 5 folds의 평균 RSME scores : 5.829\n",
      "alpha 0.1일 때 5 folds의 평균 RSME scores : 5.788\n",
      "alpha 1일 때 5 folds의 평균 RSME scores : 5.653\n",
      "alpha 10일 때 5 folds의 평균 RSME scores : 5.518\n",
      "alpha 100일 때 5 folds의 평균 RSME scores : 5.330\n"
     ]
    }
   ],
   "source": [
    "# 릿지에 사용될 alpha 파라미터의 값을 정리\n",
    "alphas = [0, 0.1, 1, 10, 100]\n",
    "\n",
    "for alpha in alphas:\n",
    "    ridge = Ridge(alpha = alpha)\n",
    "    neg_mse_scores = cross_val_score(ridge, X_data, y_target, scoring='neg_mean_squared_error', cv=5)\n",
    "    rmse_scores = np.sqrt( -1 * neg_mse_scores)\n",
    "    avg_rmse = np.mean(rmse_scores)\n",
    "    print('alpha {0}일 때 5 folds의 평균 RSME scores : {1:.3f}'.format(alpha, avg_rmse))"
   ]
  },
  {
   "cell_type": "code",
   "execution_count": 29,
   "id": "0989ad50",
   "metadata": {
    "scrolled": false
   },
   "outputs": [
    {
     "data": {
      "image/png": "[encoded data removed]",
      "text/plain": [
       "<Figure size 1296x432 with 5 Axes>"
      ]
     },
     "metadata": {
      "needs_background": "light"
     },
     "output_type": "display_data"
    }
   ],
   "source": [
    "fig, axs = plt.subplots(1, 5, figsize=(18, 6))\n",
    "coef_df = pd.DataFrame()\n",
    "for pos, alpha in enumerate(alphas):\n",
    "    ridge = Ridge(alpha = alpha)\n",
    "    ridge.fit(X_data, y_target)\n",
    "    coef = pd.Series(ridge.coef_, index = X_data.columns)\n",
    "    colname = 'alpha '+str(alpha)\n",
    "    coef_df[colname] = coef\n",
    "    coef = coef.sort_values(ascending=False)\n",
    "    axs[pos].set_title(colname)\n",
    "    axs[pos].set_xlim(-3, 6)\n",
    "    sns.barplot(x=coef.values, y=coef.index, ax=axs[pos])\n",
    "plt.show()"
   ]
  },
  {
   "cell_type": "code",
   "execution_count": 32,
   "id": "ac233dae",
   "metadata": {
    "scrolled": true
   },
   "outputs": [
    {
     "data": {
      "text/html": [
       "<div>\n",
       "<style scoped>\n",
       "    .dataframe tbody tr th:only-of-type {\n",
       "        vertical-align: middle;\n",
       "    }\n",
       "\n",
       "    .dataframe tbody tr th {\n",
       "        vertical-align: top;\n",
       "    }\n",
       "\n",
       "    .dataframe thead th {\n",
       "        text-align: right;\n",
       "    }\n",
       "</style>\n",
       "<table border=\"1\" class=\"dataframe\">\n",
       "  <thead>\n",
       "    <tr style=\"text-align: right;\">\n",
       "      <th></th>\n",
       "      <th>alpha 0</th>\n",
       "      <th>alpha 0.1</th>\n",
       "      <th>alpha 1</th>\n",
       "      <th>alpha 10</th>\n",
       "      <th>alpha 100</th>\n",
       "    </tr>\n",
       "  </thead>\n",
       "  <tbody>\n",
       "    <tr>\n",
       "      <th>RM</th>\n",
       "      <td>3.809865</td>\n",
       "      <td>3.818233</td>\n",
       "      <td>3.854000</td>\n",
       "      <td>3.702272</td>\n",
       "      <td>2.334536</td>\n",
       "    </tr>\n",
       "    <tr>\n",
       "      <th>CHAS</th>\n",
       "      <td>2.686734</td>\n",
       "      <td>2.670019</td>\n",
       "      <td>2.552393</td>\n",
       "      <td>1.952021</td>\n",
       "      <td>0.638335</td>\n",
       "    </tr>\n",
       "    <tr>\n",
       "      <th>RAD</th>\n",
       "      <td>0.306049</td>\n",
       "      <td>0.303515</td>\n",
       "      <td>0.290142</td>\n",
       "      <td>0.279596</td>\n",
       "      <td>0.315358</td>\n",
       "    </tr>\n",
       "    <tr>\n",
       "      <th>ZN</th>\n",
       "      <td>0.046420</td>\n",
       "      <td>0.046572</td>\n",
       "      <td>0.047443</td>\n",
       "      <td>0.049579</td>\n",
       "      <td>0.054496</td>\n",
       "    </tr>\n",
       "    <tr>\n",
       "      <th>INDUS</th>\n",
       "      <td>0.020559</td>\n",
       "      <td>0.015999</td>\n",
       "      <td>-0.008805</td>\n",
       "      <td>-0.042962</td>\n",
       "      <td>-0.052826</td>\n",
       "    </tr>\n",
       "    <tr>\n",
       "      <th>B</th>\n",
       "      <td>0.009312</td>\n",
       "      <td>0.009368</td>\n",
       "      <td>0.009673</td>\n",
       "      <td>0.010037</td>\n",
       "      <td>0.009393</td>\n",
       "    </tr>\n",
       "    <tr>\n",
       "      <th>AGE</th>\n",
       "      <td>0.000692</td>\n",
       "      <td>-0.000269</td>\n",
       "      <td>-0.005415</td>\n",
       "      <td>-0.010707</td>\n",
       "      <td>0.001212</td>\n",
       "    </tr>\n",
       "    <tr>\n",
       "      <th>TAX</th>\n",
       "      <td>-0.012335</td>\n",
       "      <td>-0.012421</td>\n",
       "      <td>-0.012912</td>\n",
       "      <td>-0.013993</td>\n",
       "      <td>-0.015856</td>\n",
       "    </tr>\n",
       "    <tr>\n",
       "      <th>CRIM</th>\n",
       "      <td>-0.108011</td>\n",
       "      <td>-0.107474</td>\n",
       "      <td>-0.104595</td>\n",
       "      <td>-0.101435</td>\n",
       "      <td>-0.102202</td>\n",
       "    </tr>\n",
       "    <tr>\n",
       "      <th>LSTAT</th>\n",
       "      <td>-0.524758</td>\n",
       "      <td>-0.525966</td>\n",
       "      <td>-0.533343</td>\n",
       "      <td>-0.559366</td>\n",
       "      <td>-0.660764</td>\n",
       "    </tr>\n",
       "    <tr>\n",
       "      <th>PTRATIO</th>\n",
       "      <td>-0.952747</td>\n",
       "      <td>-0.940759</td>\n",
       "      <td>-0.876074</td>\n",
       "      <td>-0.797945</td>\n",
       "      <td>-0.829218</td>\n",
       "    </tr>\n",
       "    <tr>\n",
       "      <th>DIS</th>\n",
       "      <td>-1.475567</td>\n",
       "      <td>-1.459626</td>\n",
       "      <td>-1.372654</td>\n",
       "      <td>-1.248808</td>\n",
       "      <td>-1.153390</td>\n",
       "    </tr>\n",
       "    <tr>\n",
       "      <th>NOX</th>\n",
       "      <td>-17.766611</td>\n",
       "      <td>-16.684645</td>\n",
       "      <td>-10.777015</td>\n",
       "      <td>-2.371619</td>\n",
       "      <td>-0.262847</td>\n",
       "    </tr>\n",
       "  </tbody>\n",
       "</table>\n",
       "</div>"
      ],
      "text/plain": [
       "           alpha 0  alpha 0.1    alpha 1  alpha 10  alpha 100\n",
       "RM        3.809865   3.818233   3.854000  3.702272   2.334536\n",
       "CHAS      2.686734   2.670019   2.552393  1.952021   0.638335\n",
       "RAD       0.306049   0.303515   0.290142  0.279596   0.315358\n",
       "ZN        0.046420   0.046572   0.047443  0.049579   0.054496\n",
       "INDUS     0.020559   0.015999  -0.008805 -0.042962  -0.052826\n",
       "B         0.009312   0.009368   0.009673  0.010037   0.009393\n",
       "AGE       0.000692  -0.000269  -0.005415 -0.010707   0.001212\n",
       "TAX      -0.012335  -0.012421  -0.012912 -0.013993  -0.015856\n",
       "CRIM     -0.108011  -0.107474  -0.104595 -0.101435  -0.102202\n",
       "LSTAT    -0.524758  -0.525966  -0.533343 -0.559366  -0.660764\n",
       "PTRATIO  -0.952747  -0.940759  -0.876074 -0.797945  -0.829218\n",
       "DIS      -1.475567  -1.459626  -1.372654 -1.248808  -1.153390\n",
       "NOX     -17.766611 -16.684645 -10.777015 -2.371619  -0.262847"
      ]
     },
     "execution_count": 32,
     "metadata": {},
     "output_type": "execute_result"
    }
   ],
   "source": [
    "sort_column = 'alpha '+ str(alphas[0])\n",
    "coef_df.sort_values(by=sort_column ,ascending=False)"
   ]
  },
  {
   "cell_type": "markdown",
   "id": "1c8b3b20",
   "metadata": {},
   "source": [
    "alpha 값이 증가하면서 회귀 계수가 지속적으로 작아지고 있음을 알 수 있다.\n",
    "하지만 릿지 회귀의 경우 회귀 계수를 0으로 만들지는 않는다."
   ]
  },
  {
   "cell_type": "markdown",
   "id": "692ee95d",
   "metadata": {},
   "source": [
    "#### 라쏘 회귀"
   ]
  },
  {
   "cell_type": "markdown",
   "id": "a29f342d",
   "metadata": {},
   "source": [
    "L1 규제를 선형 회귀에 적용한 것이 라쏘(Lasso) 회귀.<br>\n",
    "L1 규제는 불필요한 회귀 계수를 급격하게 감소시켜 0으로 만들고 제거.<br>\n",
    "적절한 피처만 회귀에 포함시키는 피처 선택의 특성을 가짐.<br>"
   ]
  },
  {
   "cell_type": "code",
   "execution_count": 35,
   "id": "521777e2",
   "metadata": {
    "scrolled": true
   },
   "outputs": [
    {
     "name": "stdout",
     "output_type": "stream",
     "text": [
      "alpha 0.07일 때 5 folds의 평균 RSME scores : 5.612\n",
      "alpha 0.1일 때 5 folds의 평균 RSME scores : 5.615\n",
      "alpha 0.5일 때 5 folds의 평균 RSME scores : 5.669\n",
      "alpha 1일 때 5 folds의 평균 RSME scores : 5.776\n",
      "alpha 3일 때 5 folds의 평균 RSME scores : 6.189\n"
     ]
    }
   ],
   "source": [
    "from sklearn.linear_model import Lasso\n",
    "# 라쏘에 사용될 alpha 파라미터의 값을 정리\n",
    "alphas = [0.07, 0.1, 0.5, 1, 3]\n",
    "\n",
    "for alpha in alphas:\n",
    "    lasso = Lasso(alpha = alpha)\n",
    "    neg_mse_scores = cross_val_score(lasso, X_data, y_target, scoring='neg_mean_squared_error', cv=5)\n",
    "    rmse_scores = np.sqrt( -1 * neg_mse_scores)\n",
    "    avg_rmse = np.mean(rmse_scores)\n",
    "    print('alpha {0}일 때 5 folds의 평균 RSME scores : {1:.3f}'.format(alpha, avg_rmse))"
   ]
  },
  {
   "cell_type": "code",
   "execution_count": 36,
   "id": "99360530",
   "metadata": {
    "scrolled": true
   },
   "outputs": [
    {
     "data": {
      "image/png": "[encoded data removed]",
      "text/plain": [
       "<Figure size 1296x432 with 5 Axes>"
      ]
     },
     "metadata": {
      "needs_background": "light"
     },
     "output_type": "display_data"
    }
   ],
   "source": [
    "fig, axs = plt.subplots(1, 5, figsize=(18, 6))\n",
    "coef_df = pd.DataFrame()\n",
    "for pos, alpha in enumerate(alphas):\n",
    "    lasso = Lasso(alpha = alpha)\n",
    "    lasso.fit(X_data, y_target)\n",
    "    coef = pd.Series(lasso.coef_, index = X_data.columns)\n",
    "    colname = 'alpha '+str(alpha)\n",
    "    coef_df[colname] = coef\n",
    "    coef = coef.sort_values(ascending=False)\n",
    "    axs[pos].set_title(colname)\n",
    "    axs[pos].set_xlim(-3, 6)\n",
    "    sns.barplot(x=coef.values, y=coef.index, ax=axs[pos])\n",
    "plt.show()"
   ]
  },
  {
   "cell_type": "code",
   "execution_count": 37,
   "id": "21aad618",
   "metadata": {
    "scrolled": true
   },
   "outputs": [
    {
     "data": {
      "text/html": [
       "<div>\n",
       "<style scoped>\n",
       "    .dataframe tbody tr th:only-of-type {\n",
       "        vertical-align: middle;\n",
       "    }\n",
       "\n",
       "    .dataframe tbody tr th {\n",
       "        vertical-align: top;\n",
       "    }\n",
       "\n",
       "    .dataframe thead th {\n",
       "        text-align: right;\n",
       "    }\n",
       "</style>\n",
       "<table border=\"1\" class=\"dataframe\">\n",
       "  <thead>\n",
       "    <tr style=\"text-align: right;\">\n",
       "      <th></th>\n",
       "      <th>alpha 0.07</th>\n",
       "      <th>alpha 0.1</th>\n",
       "      <th>alpha 0.5</th>\n",
       "      <th>alpha 1</th>\n",
       "      <th>alpha 3</th>\n",
       "    </tr>\n",
       "  </thead>\n",
       "  <tbody>\n",
       "    <tr>\n",
       "      <th>RM</th>\n",
       "      <td>3.789725</td>\n",
       "      <td>3.703202</td>\n",
       "      <td>2.498212</td>\n",
       "      <td>0.949811</td>\n",
       "      <td>0.000000</td>\n",
       "    </tr>\n",
       "    <tr>\n",
       "      <th>CHAS</th>\n",
       "      <td>1.434343</td>\n",
       "      <td>0.955190</td>\n",
       "      <td>0.000000</td>\n",
       "      <td>0.000000</td>\n",
       "      <td>0.000000</td>\n",
       "    </tr>\n",
       "    <tr>\n",
       "      <th>RAD</th>\n",
       "      <td>0.270936</td>\n",
       "      <td>0.274707</td>\n",
       "      <td>0.277451</td>\n",
       "      <td>0.264206</td>\n",
       "      <td>0.061864</td>\n",
       "    </tr>\n",
       "    <tr>\n",
       "      <th>ZN</th>\n",
       "      <td>0.049059</td>\n",
       "      <td>0.049211</td>\n",
       "      <td>0.049544</td>\n",
       "      <td>0.049165</td>\n",
       "      <td>0.037231</td>\n",
       "    </tr>\n",
       "    <tr>\n",
       "      <th>B</th>\n",
       "      <td>0.010248</td>\n",
       "      <td>0.010249</td>\n",
       "      <td>0.009469</td>\n",
       "      <td>0.008247</td>\n",
       "      <td>0.006510</td>\n",
       "    </tr>\n",
       "    <tr>\n",
       "      <th>NOX</th>\n",
       "      <td>-0.000000</td>\n",
       "      <td>-0.000000</td>\n",
       "      <td>-0.000000</td>\n",
       "      <td>-0.000000</td>\n",
       "      <td>0.000000</td>\n",
       "    </tr>\n",
       "    <tr>\n",
       "      <th>AGE</th>\n",
       "      <td>-0.011706</td>\n",
       "      <td>-0.010037</td>\n",
       "      <td>0.003604</td>\n",
       "      <td>0.020910</td>\n",
       "      <td>0.042495</td>\n",
       "    </tr>\n",
       "    <tr>\n",
       "      <th>TAX</th>\n",
       "      <td>-0.014290</td>\n",
       "      <td>-0.014570</td>\n",
       "      <td>-0.015442</td>\n",
       "      <td>-0.015212</td>\n",
       "      <td>-0.008602</td>\n",
       "    </tr>\n",
       "    <tr>\n",
       "      <th>INDUS</th>\n",
       "      <td>-0.042120</td>\n",
       "      <td>-0.036619</td>\n",
       "      <td>-0.005253</td>\n",
       "      <td>-0.000000</td>\n",
       "      <td>-0.000000</td>\n",
       "    </tr>\n",
       "    <tr>\n",
       "      <th>CRIM</th>\n",
       "      <td>-0.098193</td>\n",
       "      <td>-0.097894</td>\n",
       "      <td>-0.083289</td>\n",
       "      <td>-0.063437</td>\n",
       "      <td>-0.000000</td>\n",
       "    </tr>\n",
       "    <tr>\n",
       "      <th>LSTAT</th>\n",
       "      <td>-0.560431</td>\n",
       "      <td>-0.568769</td>\n",
       "      <td>-0.656290</td>\n",
       "      <td>-0.761115</td>\n",
       "      <td>-0.807679</td>\n",
       "    </tr>\n",
       "    <tr>\n",
       "      <th>PTRATIO</th>\n",
       "      <td>-0.765107</td>\n",
       "      <td>-0.770654</td>\n",
       "      <td>-0.758752</td>\n",
       "      <td>-0.722966</td>\n",
       "      <td>-0.265072</td>\n",
       "    </tr>\n",
       "    <tr>\n",
       "      <th>DIS</th>\n",
       "      <td>-1.176583</td>\n",
       "      <td>-1.160538</td>\n",
       "      <td>-0.936605</td>\n",
       "      <td>-0.668790</td>\n",
       "      <td>-0.000000</td>\n",
       "    </tr>\n",
       "  </tbody>\n",
       "</table>\n",
       "</div>"
      ],
      "text/plain": [
       "         alpha 0.07  alpha 0.1  alpha 0.5   alpha 1   alpha 3\n",
       "RM         3.789725   3.703202   2.498212  0.949811  0.000000\n",
       "CHAS       1.434343   0.955190   0.000000  0.000000  0.000000\n",
       "RAD        0.270936   0.274707   0.277451  0.264206  0.061864\n",
       "ZN         0.049059   0.049211   0.049544  0.049165  0.037231\n",
       "B          0.010248   0.010249   0.009469  0.008247  0.006510\n",
       "NOX       -0.000000  -0.000000  -0.000000 -0.000000  0.000000\n",
       "AGE       -0.011706  -0.010037   0.003604  0.020910  0.042495\n",
       "TAX       -0.014290  -0.014570  -0.015442 -0.015212 -0.008602\n",
       "INDUS     -0.042120  -0.036619  -0.005253 -0.000000 -0.000000\n",
       "CRIM      -0.098193  -0.097894  -0.083289 -0.063437 -0.000000\n",
       "LSTAT     -0.560431  -0.568769  -0.656290 -0.761115 -0.807679\n",
       "PTRATIO   -0.765107  -0.770654  -0.758752 -0.722966 -0.265072\n",
       "DIS       -1.176583  -1.160538  -0.936605 -0.668790 -0.000000"
      ]
     },
     "execution_count": 37,
     "metadata": {},
     "output_type": "execute_result"
    }
   ],
   "source": [
    "sort_column = 'alpha '+ str(alphas[0])\n",
    "coef_df.sort_values(by=sort_column ,ascending=False)"
   ]
  },
  {
   "cell_type": "markdown",
   "id": "f22a0954",
   "metadata": {},
   "source": [
    "alpha의 크기가 증가함에 따라 일부 피처의 회귀 계수는 아예 0으로 바뀌고 있다."
   ]
  },
  {
   "cell_type": "markdown",
   "id": "d63be465",
   "metadata": {},
   "source": [
    "#### 엘라스틱넷 회귀"
   ]
  },
  {
   "cell_type": "markdown",
   "id": "119a398e",
   "metadata": {},
   "source": [
    "엘라스틱넷(Elastic Net) 회귀는 L2 규제와 L1규제를 결합한 회귀.<br>\n",
    "엘라스틱넷 회귀의 단점은 L1과 L2 규제가 결합된 규제로 인해\n",
    "수행시간이 상대적으로 오래 걸린다는 것."
   ]
  },
  {
   "cell_type": "markdown",
   "id": "b7246130",
   "metadata": {},
   "source": [
    "#### 선형 회귀 모델을 위한 데이터 변환"
   ]
  },
  {
   "cell_type": "markdown",
   "id": "03377cfe",
   "metadata": {},
   "source": [
    "선형 회귀 모델과 같은 선형 모델은 일반적으로 피처와 타깃값 간에<br>\n",
    "선형의 관계가 있다고 가정하고, 이러한 최적의 선형함수를 찾아내 결과값을 예측"
   ]
  },
  {
   "cell_type": "markdown",
   "id": "bdfa9e3a",
   "metadata": {},
   "source": [
    "선형 회귀 모델은 피처값과 타깃값의 분포가 정규 분포 형태를 매우 선호.<br>\n",
    "타깃값의 경우 정규 본포 형태가 아니라 특정값의 분포가 치우친 왜곡(Skew)된 형태의 분포도일 경우 예측 성능에 부정적인 영향을 미칠\n",
    "가능성이 높음."
   ]
  },
  {
   "cell_type": "markdown",
   "id": "7beb4490",
   "metadata": {},
   "source": [
    "피처값 역시 결정값보다는 덜하지만 왜곡된 분포도로 인해 예측 성능에 부정적인 영향을 미칠 수 있음."
   ]
  },
  {
   "cell_type": "markdown",
   "id": "9d2d028c",
   "metadata": {},
   "source": [
    "일반적으로 중요 피처들이나 타깃값의 분포도가 심하게 왜곡됐을 경우에 이러한 변환 작업을 수행한다.\n",
    "\n",
    "1. StandardScaler 클래스를 이용해 평균을 0, 분산이 1인 표준 정규 분포를 가진 데이터 세트로 변환하거나 MinMaxScaler 클래스를 이용해\n",
    "   최소값 0, 최대값이 1인 값으로 정규화를 수행.\n",
    "2. 스케일링/정규화를 수행한 데이터 세트에 다시 다항 특성을 적용하여 변환. 보통 1번 방법을 통해 예측 성능에 향상이 없을 경우\n",
    "   이와 같은 방법을 적용\n",
    "3. 원래 값에 log 함수를 적용하면 보다 정규 분포에 가까운 형태로 값이 분포됨."
   ]
  },
  {
   "cell_type": "markdown",
   "id": "d2b22d79",
   "metadata": {},
   "source": [
    "타겟값의 경우는 일반적으로 로그 변환을 적용. 정규 분포나 다른 정규값으로 변환하면 변환된 값을 다시 원본 타겟값으로 원복하기 어려울 수 있음"
   ]
  },
  {
   "cell_type": "code",
   "execution_count": 44,
   "id": "d59b3f91",
   "metadata": {},
   "outputs": [
    {
     "name": "stdout",
     "output_type": "stream",
     "text": [
      "method None degree None alpha 0일 때 5 folds의 평균 RSME scores : 5.829\n",
      "method None degree None alpha 0.1일 때 5 folds의 평균 RSME scores : 5.788\n",
      "method None degree None alpha 1일 때 5 folds의 평균 RSME scores : 5.653\n",
      "method None degree None alpha 10일 때 5 folds의 평균 RSME scores : 5.518\n",
      "method None degree None alpha 100일 때 5 folds의 평균 RSME scores : 5.330\n",
      "method Standard degree None alpha 0일 때 5 folds의 평균 RSME scores : 5.829\n",
      "method Standard degree None alpha 0.1일 때 5 folds의 평균 RSME scores : 5.826\n",
      "method Standard degree None alpha 1일 때 5 folds의 평균 RSME scores : 5.803\n",
      "method Standard degree None alpha 10일 때 5 folds의 평균 RSME scores : 5.637\n",
      "method Standard degree None alpha 100일 때 5 folds의 평균 RSME scores : 5.421\n",
      "method Standard degree 2 alpha 0일 때 5 folds의 평균 RSME scores : 75446804976555.625\n",
      "method Standard degree 2 alpha 0.1일 때 5 folds의 평균 RSME scores : 8.827\n",
      "method Standard degree 2 alpha 1일 때 5 folds의 평균 RSME scores : 6.871\n",
      "method Standard degree 2 alpha 10일 때 5 folds의 평균 RSME scores : 5.485\n",
      "method Standard degree 2 alpha 100일 때 5 folds의 평균 RSME scores : 4.634\n",
      "method MinMax degree None alpha 0일 때 5 folds의 평균 RSME scores : 5.829\n",
      "method MinMax degree None alpha 0.1일 때 5 folds의 평균 RSME scores : 5.764\n",
      "method MinMax degree None alpha 1일 때 5 folds의 평균 RSME scores : 5.465\n",
      "method MinMax degree None alpha 10일 때 5 folds의 평균 RSME scores : 5.754\n",
      "method MinMax degree None alpha 100일 때 5 folds의 평균 RSME scores : 7.635\n",
      "method MinMax degree 2 alpha 0일 때 5 folds의 평균 RSME scores : 30149964256630.832\n",
      "method MinMax degree 2 alpha 0.1일 때 5 folds의 평균 RSME scores : 5.298\n",
      "method MinMax degree 2 alpha 1일 때 5 folds의 평균 RSME scores : 4.323\n",
      "method MinMax degree 2 alpha 10일 때 5 folds의 평균 RSME scores : 5.185\n",
      "method MinMax degree 2 alpha 100일 때 5 folds의 평균 RSME scores : 6.538\n",
      "method Log degree None alpha 0일 때 5 folds의 평균 RSME scores : 4.829\n",
      "method Log degree None alpha 0.1일 때 5 folds의 평균 RSME scores : 4.770\n",
      "method Log degree None alpha 1일 때 5 folds의 평균 RSME scores : 4.676\n",
      "method Log degree None alpha 10일 때 5 folds의 평균 RSME scores : 4.836\n",
      "method Log degree None alpha 100일 때 5 folds의 평균 RSME scores : 6.241\n"
     ]
    }
   ],
   "source": [
    "from sklearn.preprocessing import StandardScaler, MinMaxScaler\n",
    "\n",
    "def get_scaled_data(method=None, degree=None, input_data=None):\n",
    "    if method=='Standard':\n",
    "        st_scaler = StandardScaler()\n",
    "        scaled_data = st_scaler.fit_transform(input_data)\n",
    "    elif method=='MinMax':\n",
    "        mm_scaler = MinMaxScaler()\n",
    "        scaled_data = mm_scaler.fit_transform(input_data)\n",
    "    elif method=='Log':\n",
    "        scaled_data = np.log1p(input_data)\n",
    "    else:\n",
    "        scaled_data = input_data\n",
    "        \n",
    "    if degree!=None:\n",
    "        scaled_data = PolynomialFeatures(degree=degree).fit_transform(scaled_data)\n",
    "    \n",
    "    return scaled_data\n",
    "\n",
    "scale_methods = [(None, None), ('Standard', None), ('Standard', 2), ('MinMax',None), ('MinMax', 2), ('Log', None)]\n",
    "\n",
    "# 릿지에 사용될 alpha 파라미터의 값을 정리\n",
    "alphas = [0, 0.1, 1, 10, 100]\n",
    "for method, degree in scale_methods:\n",
    "    for alpha in alphas:\n",
    "        ridge = Ridge(alpha = alpha)\n",
    "        scaled_X_data = get_scaled_data(method=method, degree=degree, input_data=X_data)\n",
    "        neg_mse_scores = cross_val_score(ridge, scaled_X_data, y_target, scoring='neg_mean_squared_error', cv=5)\n",
    "        rmse_scores = np.sqrt( -1 * neg_mse_scores)\n",
    "        avg_rmse = np.mean(rmse_scores)\n",
    "        print('method {0} degree {1} alpha {2}일 때 5 folds의 평균 RSME scores : {3:.3f}'.format(method, degree, alpha, avg_rmse))"
   ]
  }
 ],
 "metadata": {
  "kernelspec": {
   "display_name": "Python 3",
   "language": "python",
   "name": "python3"
  },
  "language_info": {
   "codemirror_mode": {
    "name": "ipython",
    "version": 3
   },
   "file_extension": ".py",
   "mimetype": "text/x-python",
   "name": "python",
   "nbconvert_exporter": "python",
   "pygments_lexer": "ipython3",
   "version": "3.8.8"
  }
 },
 "nbformat": 4,
 "nbformat_minor": 5
}
