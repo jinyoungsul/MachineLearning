{
 "cells": [
  {
   "cell_type": "markdown",
   "id": "981b76da",
   "metadata": {},
   "source": [
    "## Chapter 6. 차원축소"
   ]
  },
  {
   "cell_type": "markdown",
   "id": "a8cd1dd1",
   "metadata": {},
   "source": [
    "### 01. 차원 축소(Dimension Reduction) 개요"
   ]
  },
  {
   "cell_type": "markdown",
   "id": "7bd4853b",
   "metadata": {},
   "source": [
    "차원축소는 매우 많은 피처로 구성된 다차원 데이터 세트의 차원을 축소해 새로운 차원의 데이터 세트를 생성하는 것.\n",
    "\n",
    "일반적으로 <b>피처 선택(feature selection)</b>과 **피처 추출(feature extraction)**로 나눌 수 있다.\n",
    "\n",
    "**피처 선택**은 특정 피처에 종속성이 강한 불필요한 피처는 아예 제거하고, 데이터의 특징을 잘 나타내는 주요 피처만 선택하는 것.<br>\n",
    "**피처 추출**은 기존 피처를 저차원의 중요 피처로 압축해서 추출하는 것. 기존 피처를 단순 압축이 아닌, 피처를 함축적으로 더 잘 설명할 수 있는 또 다른\n",
    "공간으로 매핑해 추출하는것.\n"
   ]
  },
  {
   "cell_type": "markdown",
   "id": "33f0abd9",
   "metadata": {},
   "source": [
    "차원 축소는 단순히 데이터의 압축을 의미하는 것이 아니다. 더 중요한 의미는 차원 축소를 통해 데이터를 잘 성명할 수 있는 잠재적인 요소를\n",
    "추출하는 데에 있다. <br>\n",
    "PCA, SVD, NMF는 이처럼 잠재적인 요소를 찾는 대표적인 차원 축소 알고리즘<br>\n",
    "매우 많은 차원을 가지고 있는 이미지나 텍스트에서 차원 축소를 통해 잠재적인 의미를 찾아 주는 데 이 알고리즘이 잘 활용되고 있습니다."
   ]
  },
  {
   "cell_type": "markdown",
   "id": "c1da2d5a",
   "metadata": {},
   "source": [
    "- 이미지 영역<br>\n",
    "매우 많은 픽셀로 이뤄진 이미지 데이터에서 잠재된 특성을 피처로 도출해 함축적 형태의 이미지 변환과 압축을 수행할 수 있음.<br>\n",
    "이렇게 변환된 이미지는 원본 이미지보다 훨씬 적은 차원이기 때문에 이미지 분류 등의 분류 수행시 과적합 영향력이 작아져서 오히려\n",
    "원본 데이터로 예측하는 것보다 예측 성능을 더 끌어 올릴 수 있음.\n",
    "\n",
    "- 텍스트 영역<br>\n",
    "문서 내 단어들의 구성에서 숨겨져 있는 시맨틱 의미나 토픽을 잠재 요소로 간주하고 이를 찾아낼 수 있음.<br>\n",
    "SVD와 NMF는 이러한 시맨틱 토픽 모델링을 위한 기반 알고리즘으로 사용됨."
   ]
  },
  {
   "cell_type": "markdown",
   "id": "68438a5a",
   "metadata": {},
   "source": [
    "### 02. PCA(Pricipal Component Analysis)"
   ]
  },
  {
   "cell_type": "markdown",
   "id": "fdbecfa0",
   "metadata": {},
   "source": [
    "#### PCA 개요"
   ]
  },
  {
   "cell_type": "markdown",
   "id": "bd78462e",
   "metadata": {},
   "source": [
    "PCA(주성분 분석)는 가장 대표적인 차원 축소 기법.<br>\n",
    "PCA는 여러 변수 간에 존재하는 상관관계를 이용해 이를 대표하는 주성분을 추출해 차원을 축소 하는 기법.<br>\n",
    "PCA로 차원을 축소할 때는 기존 데이터의 정보 유실이 최소화되는 것이 당연하다.<br>\n",
    "이를 위해서 PCA는 가장 높은 분산을 가지는 데이터의 축을 찾아 이 축으로 차원을 축소하는데 이것이 주성분이 된다.<br>\n",
    "(즉, 분산이 데이터의 특성을 가장 잘 나타내는 것으로 간주)"
   ]
  },
  {
   "cell_type": "markdown",
   "id": "002c9c3c",
   "metadata": {},
   "source": [
    "PCA를 선형대수 관점에서 해석해 보면, 입력 데이터의 공분산(Covariance Matrix)을 고유값 분해하고,<br>\n",
    "이렇게 구한 고유벡터에 입력 데이터를 선형변환하는 것.<br>\n",
    "이 고유벡터가 PCA의 주성분 벡터로서 입력 데이터의 분산이 큰 방향을 나타낸다.<br>\n",
    "\n",
    "**고유값(eigenvalue)**은 고유벡터의 크기를 나타내며, 동시에 입력 데이터의 분산을 나타낸다.<br>\n",
    "**고유벡터(eigenvector)**는 행렬A를 곱하더라도 방향이 변하지 않고 그 크기만 변하는 벡터를 지칭.<br>\n",
    "\n",
    "선형변환은 특정 벡터에 행렬 A를 곱해 새로운 벡터로 변환하는 것을 의미.<br>\n",
    "분산은 한 개의 특정한 변수의 데이터 변동을 의미하나, 공분산은 두 변수 간의 변동을 의미.\n",
    "\n",
    "**입력데이터의 공분산 행렬이 고유벡터와 고유값으로 분해될 수 있으며, 이렇게 분해된 고유벡터를 이용해 입력 데이터를 선형 변환하는 방식이 PCA**"
   ]
  },
  {
   "cell_type": "code",
   "execution_count": 2,
   "id": "19a5df80",
   "metadata": {
    "scrolled": true
   },
   "outputs": [
    {
     "data": {
      "text/html": [
       "<div>\n",
       "<style scoped>\n",
       "    .dataframe tbody tr th:only-of-type {\n",
       "        vertical-align: middle;\n",
       "    }\n",
       "\n",
       "    .dataframe tbody tr th {\n",
       "        vertical-align: top;\n",
       "    }\n",
       "\n",
       "    .dataframe thead th {\n",
       "        text-align: right;\n",
       "    }\n",
       "</style>\n",
       "<table border=\"1\" class=\"dataframe\">\n",
       "  <thead>\n",
       "    <tr style=\"text-align: right;\">\n",
       "      <th></th>\n",
       "      <th>sepal_length</th>\n",
       "      <th>sepal_width</th>\n",
       "      <th>petal_length</th>\n",
       "      <th>petal_width</th>\n",
       "      <th>target</th>\n",
       "    </tr>\n",
       "  </thead>\n",
       "  <tbody>\n",
       "    <tr>\n",
       "      <th>0</th>\n",
       "      <td>5.1</td>\n",
       "      <td>3.5</td>\n",
       "      <td>1.4</td>\n",
       "      <td>0.2</td>\n",
       "      <td>0</td>\n",
       "    </tr>\n",
       "    <tr>\n",
       "      <th>1</th>\n",
       "      <td>4.9</td>\n",
       "      <td>3.0</td>\n",
       "      <td>1.4</td>\n",
       "      <td>0.2</td>\n",
       "      <td>0</td>\n",
       "    </tr>\n",
       "    <tr>\n",
       "      <th>2</th>\n",
       "      <td>4.7</td>\n",
       "      <td>3.2</td>\n",
       "      <td>1.3</td>\n",
       "      <td>0.2</td>\n",
       "      <td>0</td>\n",
       "    </tr>\n",
       "    <tr>\n",
       "      <th>3</th>\n",
       "      <td>4.6</td>\n",
       "      <td>3.1</td>\n",
       "      <td>1.5</td>\n",
       "      <td>0.2</td>\n",
       "      <td>0</td>\n",
       "    </tr>\n",
       "    <tr>\n",
       "      <th>4</th>\n",
       "      <td>5.0</td>\n",
       "      <td>3.6</td>\n",
       "      <td>1.4</td>\n",
       "      <td>0.2</td>\n",
       "      <td>0</td>\n",
       "    </tr>\n",
       "    <tr>\n",
       "      <th>...</th>\n",
       "      <td>...</td>\n",
       "      <td>...</td>\n",
       "      <td>...</td>\n",
       "      <td>...</td>\n",
       "      <td>...</td>\n",
       "    </tr>\n",
       "    <tr>\n",
       "      <th>145</th>\n",
       "      <td>6.7</td>\n",
       "      <td>3.0</td>\n",
       "      <td>5.2</td>\n",
       "      <td>2.3</td>\n",
       "      <td>2</td>\n",
       "    </tr>\n",
       "    <tr>\n",
       "      <th>146</th>\n",
       "      <td>6.3</td>\n",
       "      <td>2.5</td>\n",
       "      <td>5.0</td>\n",
       "      <td>1.9</td>\n",
       "      <td>2</td>\n",
       "    </tr>\n",
       "    <tr>\n",
       "      <th>147</th>\n",
       "      <td>6.5</td>\n",
       "      <td>3.0</td>\n",
       "      <td>5.2</td>\n",
       "      <td>2.0</td>\n",
       "      <td>2</td>\n",
       "    </tr>\n",
       "    <tr>\n",
       "      <th>148</th>\n",
       "      <td>6.2</td>\n",
       "      <td>3.4</td>\n",
       "      <td>5.4</td>\n",
       "      <td>2.3</td>\n",
       "      <td>2</td>\n",
       "    </tr>\n",
       "    <tr>\n",
       "      <th>149</th>\n",
       "      <td>5.9</td>\n",
       "      <td>3.0</td>\n",
       "      <td>5.1</td>\n",
       "      <td>1.8</td>\n",
       "      <td>2</td>\n",
       "    </tr>\n",
       "  </tbody>\n",
       "</table>\n",
       "<p>150 rows × 5 columns</p>\n",
       "</div>"
      ],
      "text/plain": [
       "     sepal_length  sepal_width  petal_length  petal_width  target\n",
       "0             5.1          3.5           1.4          0.2       0\n",
       "1             4.9          3.0           1.4          0.2       0\n",
       "2             4.7          3.2           1.3          0.2       0\n",
       "3             4.6          3.1           1.5          0.2       0\n",
       "4             5.0          3.6           1.4          0.2       0\n",
       "..            ...          ...           ...          ...     ...\n",
       "145           6.7          3.0           5.2          2.3       2\n",
       "146           6.3          2.5           5.0          1.9       2\n",
       "147           6.5          3.0           5.2          2.0       2\n",
       "148           6.2          3.4           5.4          2.3       2\n",
       "149           5.9          3.0           5.1          1.8       2\n",
       "\n",
       "[150 rows x 5 columns]"
      ]
     },
     "execution_count": 2,
     "metadata": {},
     "output_type": "execute_result"
    }
   ],
   "source": [
    "from sklearn.datasets import load_iris\n",
    "import pandas as pd\n",
    "import matplotlib.pyplot as plt\n",
    "import warnings\n",
    "warnings.filterwarnings('ignore')\n",
    "\n",
    "iris = load_iris()\n",
    "columns = ['sepal_length', 'sepal_width', 'petal_length', 'petal_width']\n",
    "iris_df = pd.DataFrame(iris.data, columns = columns)\n",
    "iris_df['target'] = iris.target\n",
    "iris_df"
   ]
  },
  {
   "cell_type": "code",
   "execution_count": 14,
   "id": "aac93560",
   "metadata": {
    "scrolled": true
   },
   "outputs": [
    {
     "data": {
      "image/png": "[encoded data removed]",
      "text/plain": [
       "<Figure size 432x288 with 1 Axes>"
      ]
     },
     "metadata": {
      "needs_background": "light"
     },
     "output_type": "display_data"
    }
   ],
   "source": [
    "markers = ['^', 's', 'o']\n",
    "\n",
    "for i, marker in enumerate(markers):\n",
    "    sepal_length = iris_df[iris_df['target']==i]['sepal_length']\n",
    "    sepal_width = iris_df[iris_df['target']==i]['sepal_width']\n",
    "    plt.scatter(sepal_length, sepal_width, marker=marker, label=iris.target_names[i])\n",
    "\n",
    "plt.legend()\n",
    "plt.xlabel('sepal length')\n",
    "plt.ylabel('sepal width')\n",
    "plt.show()"
   ]
  },
  {
   "cell_type": "markdown",
   "id": "9f55f0fd",
   "metadata": {},
   "source": [
    "PCA는 여러 속성의 값을 연산해야 하므로 속성의 스케일에 영향을 받는다.<br> 여러 속성을 PCA로 압축하기 전에 각 속성값을 동일한 스케일로 변환하는 것이 필요하다."
   ]
  },
  {
   "cell_type": "code",
   "execution_count": 3,
   "id": "285f3542",
   "metadata": {},
   "outputs": [],
   "source": [
    "from sklearn.preprocessing import StandardScaler\n",
    "\n",
    "iris_scaled = StandardScaler().fit_transform(iris_df.iloc[:, :-1])"
   ]
  },
  {
   "cell_type": "markdown",
   "id": "bd753dfe",
   "metadata": {},
   "source": [
    "스케일링이 적용된 데이터 세트에 PCA를 적용해 4차원의 붓꽃 데이터를 2차원의 PCA 데이터로 변환"
   ]
  },
  {
   "cell_type": "code",
   "execution_count": 4,
   "id": "66a52462",
   "metadata": {
    "scrolled": true
   },
   "outputs": [
    {
     "name": "stdout",
     "output_type": "stream",
     "text": [
      "(150, 2)\n"
     ]
    }
   ],
   "source": [
    "from sklearn.decomposition import PCA\n",
    "\n",
    "pca = PCA(n_components=2)\n",
    "iris_pca = pca.fit_transform(iris_scaled)\n",
    "print(iris_pca.shape)"
   ]
  },
  {
   "cell_type": "code",
   "execution_count": 5,
   "id": "5d421c4f",
   "metadata": {
    "scrolled": true
   },
   "outputs": [
    {
     "data": {
      "text/html": [
       "<div>\n",
       "<style scoped>\n",
       "    .dataframe tbody tr th:only-of-type {\n",
       "        vertical-align: middle;\n",
       "    }\n",
       "\n",
       "    .dataframe tbody tr th {\n",
       "        vertical-align: top;\n",
       "    }\n",
       "\n",
       "    .dataframe thead th {\n",
       "        text-align: right;\n",
       "    }\n",
       "</style>\n",
       "<table border=\"1\" class=\"dataframe\">\n",
       "  <thead>\n",
       "    <tr style=\"text-align: right;\">\n",
       "      <th></th>\n",
       "      <th>pca_component_1</th>\n",
       "      <th>pca_component_2</th>\n",
       "      <th>target</th>\n",
       "    </tr>\n",
       "  </thead>\n",
       "  <tbody>\n",
       "    <tr>\n",
       "      <th>0</th>\n",
       "      <td>-2.264703</td>\n",
       "      <td>0.480027</td>\n",
       "      <td>0</td>\n",
       "    </tr>\n",
       "    <tr>\n",
       "      <th>1</th>\n",
       "      <td>-2.080961</td>\n",
       "      <td>-0.674134</td>\n",
       "      <td>0</td>\n",
       "    </tr>\n",
       "    <tr>\n",
       "      <th>2</th>\n",
       "      <td>-2.364229</td>\n",
       "      <td>-0.341908</td>\n",
       "      <td>0</td>\n",
       "    </tr>\n",
       "    <tr>\n",
       "      <th>3</th>\n",
       "      <td>-2.299384</td>\n",
       "      <td>-0.597395</td>\n",
       "      <td>0</td>\n",
       "    </tr>\n",
       "    <tr>\n",
       "      <th>4</th>\n",
       "      <td>-2.389842</td>\n",
       "      <td>0.646835</td>\n",
       "      <td>0</td>\n",
       "    </tr>\n",
       "  </tbody>\n",
       "</table>\n",
       "</div>"
      ],
      "text/plain": [
       "   pca_component_1  pca_component_2  target\n",
       "0        -2.264703         0.480027       0\n",
       "1        -2.080961        -0.674134       0\n",
       "2        -2.364229        -0.341908       0\n",
       "3        -2.299384        -0.597395       0\n",
       "4        -2.389842         0.646835       0"
      ]
     },
     "execution_count": 5,
     "metadata": {},
     "output_type": "execute_result"
    }
   ],
   "source": [
    "pca_columns = ['pca_component_1', 'pca_component_2']\n",
    "iris_df_pca = pd.DataFrame(iris_pca, columns=pca_columns)\n",
    "iris_df_pca['target'] = iris.target\n",
    "iris_df_pca.head()"
   ]
  },
  {
   "cell_type": "code",
   "execution_count": 9,
   "id": "e43b430e",
   "metadata": {
    "scrolled": true
   },
   "outputs": [
    {
     "data": {
      "image/png": "[encoded data removed]",
      "text/plain": [
       "<Figure size 432x288 with 1 Axes>"
      ]
     },
     "metadata": {
      "needs_background": "light"
     },
     "output_type": "display_data"
    }
   ],
   "source": [
    "markers = ['^', 's', 'o']\n",
    "\n",
    "for i, marker in enumerate(markers):\n",
    "    pca_x = iris_df_pca[iris_df_pca['target']==i]['pca_component_1']\n",
    "    pca_y = iris_df_pca[iris_df_pca['target']==i]['pca_component_2']\n",
    "    plt.scatter(pca_x, pca_y, marker=marker, label = iris.target_names[i])\n",
    "    \n",
    "plt.legend()\n",
    "plt.xlabel('pca_component_1')\n",
    "plt.ylabel('pca_component_2')\n",
    "plt.show()"
   ]
  },
  {
   "cell_type": "markdown",
   "id": "ecf278ca",
   "metadata": {},
   "source": [
    "PCA로 변환 후에도 pca_component_1 축을 기반으로 setosa 품종은 명확하게 구분이 가능.<br>\n",
    "versicolor와 virginica는 pca_component_1 축을 기반으로 서로 겹치는 부분이 일부 존재하지만, 비교적 구분이 잘 됨.<br>\n",
    "이는 PCA의 첫 번째 새로운 축인 pca_component_1이 원본 데이터의 변동성을 잘 반영했기 때문."
   ]
  },
  {
   "cell_type": "code",
   "execution_count": 11,
   "id": "104ec0d3",
   "metadata": {
    "scrolled": true
   },
   "outputs": [
    {
     "name": "stdout",
     "output_type": "stream",
     "text": [
      "[0.72962445 0.22850762]\n"
     ]
    }
   ],
   "source": [
    "print(pca.explained_variance_ratio_)"
   ]
  },
  {
   "cell_type": "markdown",
   "id": "36778c5f",
   "metadata": {},
   "source": [
    "첫 번째 PCA 변환 요소인 pca_component_1이 전체 변동성의 약 72.9%를 차지하며, 두 번째인 pca_component_2가 약 22.8%를 차지.<br>\n",
    "따라서 PCA를 2개 요소로만 변환해도 원본 데이터의 변동성을 95% 설명할 수 있다."
   ]
  },
  {
   "cell_type": "code",
   "execution_count": 15,
   "id": "232a3f41",
   "metadata": {},
   "outputs": [
    {
     "name": "stdout",
     "output_type": "stream",
     "text": [
      "원본 데이터 평균 정확도 : 0.967\n"
     ]
    }
   ],
   "source": [
    "from sklearn.ensemble import RandomForestClassifier\n",
    "from sklearn.model_selection import cross_val_score\n",
    "import numpy as np\n",
    "\n",
    "rf_clf = RandomForestClassifier(random_state=42)\n",
    "\n",
    "scores = cross_val_score(rf_clf, iris.data, iris.target, scoring='accuracy', cv=3)\n",
    "avg_score = np.mean(scores)\n",
    "print('원본 데이터 평균 정확도 : {0:.3f}'.format(avg_score))"
   ]
  },
  {
   "cell_type": "code",
   "execution_count": 16,
   "id": "15e59afe",
   "metadata": {
    "scrolled": true
   },
   "outputs": [
    {
     "name": "stdout",
     "output_type": "stream",
     "text": [
      "PCA 변환 데이터 평균 정확도 : 0.887\n"
     ]
    }
   ],
   "source": [
    "rf_clf = RandomForestClassifier(random_state=42)\n",
    "\n",
    "scores = cross_val_score(rf_clf, iris_pca, iris.target, scoring='accuracy', cv=3)\n",
    "avg_score = np.mean(scores)\n",
    "print('PCA 변환 데이터 평균 정확도 : {0:.3f}'.format(avg_score))"
   ]
  },
  {
   "cell_type": "markdown",
   "id": "80ab46b8",
   "metadata": {},
   "source": [
    "예측 성능의 정확도가 원본 데이터 대비 8% 하락했는데, 4개의 속성이 2개로, 속성 개수가 50% 감소한 것을 고려한다면 PCA 변환 후에도<br>\n",
    "원본 데이터의 특성을 상당 부분 유지하고 있음을 알 수 있다."
   ]
  },
  {
   "cell_type": "markdown",
   "id": "62a9d47c",
   "metadata": {},
   "source": [
    "### LDA(Linear Discriminant Analysis)"
   ]
  },
  {
   "cell_type": "markdown",
   "id": "a3092ad4",
   "metadata": {},
   "source": [
    "#### LDA 개요"
   ]
  },
  {
   "cell_type": "markdown",
   "id": "3668a097",
   "metadata": {},
   "source": [
    "LDA는 선형 판별 분석법으로 불리며, 지도학습의 분류에서 사용하기 쉽도록 개별 클래스를 분별할 수 있는 기준을 최대한 유지하면서 차원을 축소한다.<br>\n",
    "LDA는 특정 공간상에서 클래스 분리를 최대하하는 축을 찾기 위해 클래스 간 분산(between-class scatter)\n",
    "과 클래스 내 분산(within-class scatter)의 비율을 최대화하는 방식으로 차원을 축소.<br>\n",
    "즉, 클래스 간 분산은 최대한 크게 가져가고, 클래스 내부의 분산은 최대한 작게 가져가는 방식.<br>\n",
    "\n",
    "클래스 간 분산과 클래스 내부 분산 행렬을 생성한 뒤, 이 행렬에 기반해 고유벡터를 구하고 입력 데이터를 투영한다는 점."
   ]
  },
  {
   "cell_type": "markdown",
   "id": "701724bf",
   "metadata": {},
   "source": [
    "#### 붓꽃 데이터 세트에 LDA 적용하기"
   ]
  },
  {
   "cell_type": "code",
   "execution_count": 31,
   "id": "aee42c8b",
   "metadata": {
    "scrolled": true
   },
   "outputs": [
    {
     "data": {
      "image/png": "[encoded data removed]",
      "text/plain": [
       "<Figure size 432x288 with 1 Axes>"
      ]
     },
     "metadata": {
      "needs_background": "light"
     },
     "output_type": "display_data"
    }
   ],
   "source": [
    "from sklearn.datasets import load_iris\n",
    "from sklearn.discriminant_analysis import LinearDiscriminantAnalysis\n",
    "from sklearn.preprocessing import StandardScaler\n",
    "import pandas as pd\n",
    "import matplotlib.pyplot as plt\n",
    "\n",
    "iris = load_iris()\n",
    "scaled_iris = StandardScaler().fit_transform(iris.data)\n",
    "\n",
    "lda = LinearDiscriminantAnalysis(n_components=2)\n",
    "lda.fit(scaled_iris, iris.target)\n",
    "iris_lda = lda.transform(scaled_iris)\n",
    "\n",
    "columns = ['lda_component_1', 'lda_component_2']\n",
    "iris_df_lda = pd.DataFrame(iris_lda, columns=columns)\n",
    "iris_df_lda['target'] = iris.target\n",
    "\n",
    "markers = ['^', 's', 'o']\n",
    "\n",
    "for i, marker in enumerate(markers):\n",
    "    lda_x = iris_df_lda[iris_df_lda['target']==i]['lda_component_1']\n",
    "    lda_y = iris_df_lda[iris_df_lda['target']==i]['lda_component_2']\n",
    "    plt.scatter(lda_x, lda_y, marker=marker, label=iris.target_names[i])\n",
    "    \n",
    "plt.legend()\n",
    "plt.xlabel('lda_component_1')\n",
    "plt.ylabel('lda_component_2')\n",
    "plt.show()"
   ]
  },
  {
   "cell_type": "markdown",
   "id": "4d0ea105",
   "metadata": {},
   "source": [
    "### 04. SVD(Singular Value Decomposition)"
   ]
  },
  {
   "cell_type": "markdown",
   "id": "13e7a332",
   "metadata": {},
   "source": [
    "#### SVD 개요"
   ]
  },
  {
   "cell_type": "markdown",
   "id": "771e612b",
   "metadata": {},
   "source": [
    "PCA의 경우 정방행렬만을 고유벡터로 분해할 수 있지만, SVD는 정방행렬뿐만 아니라 행과 열의 크기가 다른 행렬에도 적용할 수 있다.<br>\n",
    "일반적으로 SVD는 m x n 크기의 행렬 A를 다음과 같이 분해하는 것을 의미한다.\n",
    "\n",
    "$$ A = U \\sum V^T $$"
   ]
  },
  {
   "cell_type": "markdown",
   "id": "80bca923",
   "metadata": {},
   "source": [
    "SVD는 $A$의 차원이 m x n일 때 $U$의 차원이 m x m, $\\sum$의 차원이 m x n, $V^T$의 차원이 n x n으로 분해합니다."
   ]
  },
  {
   "cell_type": "code",
   "execution_count": 32,
   "id": "9b479747",
   "metadata": {
    "scrolled": true
   },
   "outputs": [
    {
     "name": "stdout",
     "output_type": "stream",
     "text": [
      "[[ 0.497 -0.138  0.648  1.523]\n",
      " [-0.234 -0.234  1.579  0.767]\n",
      " [-0.469  0.543 -0.463 -0.466]\n",
      " [ 0.242 -1.913 -1.725 -0.562]]\n"
     ]
    }
   ],
   "source": [
    "import numpy as np\n",
    "from numpy.linalg import svd\n",
    "\n",
    "np.random.seed(42)\n",
    "a = np.random.randn(4, 4)\n",
    "print(np.round(a, 3))"
   ]
  },
  {
   "cell_type": "code",
   "execution_count": 34,
   "id": "a5ecec9d",
   "metadata": {
    "scrolled": true
   },
   "outputs": [
    {
     "name": "stdout",
     "output_type": "stream",
     "text": [
      "(4, 4) (4,) (4, 4)\n",
      "U matrix : \n",
      " [[-0.373 -0.598  0.642 -0.302]\n",
      " [-0.488 -0.35  -0.745 -0.289]\n",
      " [ 0.113  0.444  0.062 -0.887]\n",
      " [ 0.781 -0.568 -0.168 -0.197]]\n",
      "Sigma value : \n",
      " [3.08  1.926 0.92  0.342]\n",
      "V transpose matrix \n",
      ":  [[ 0.021 -0.412 -0.783 -0.466]\n",
      " [-0.291  0.775 -0.086 -0.554]\n",
      " [ 0.461  0.479 -0.544  0.512]\n",
      " [ 0.838  0.017  0.289 -0.462]]\n"
     ]
    }
   ],
   "source": [
    "U, Sigma, Vt = svd(a)\n",
    "print(U.shape, Sigma.shape, Vt.shape)\n",
    "print('U matrix : \\n', np.round(U, 3))\n",
    "print('Sigma value : \\n', np.round(Sigma, 3))\n",
    "print('V transpose matrix \\n: ', np.round(Vt, 3))"
   ]
  },
  {
   "cell_type": "code",
   "execution_count": 35,
   "id": "df052cf3",
   "metadata": {
    "scrolled": true
   },
   "outputs": [
    {
     "name": "stdout",
     "output_type": "stream",
     "text": [
      "[[ 0.497 -0.138  0.648  1.523]\n",
      " [-0.234 -0.234  1.579  0.767]\n",
      " [-0.469  0.543 -0.463 -0.466]\n",
      " [ 0.242 -1.913 -1.725 -0.562]]\n"
     ]
    }
   ],
   "source": [
    "# Sigma를 다시 0을 포함한 대칭행렬로 변환\n",
    "Sigma_mat = np.diag(Sigma)\n",
    "a_ = np.dot(U, np.dot(Sigma_mat, Vt))\n",
    "print(np.round(a_, 3))"
   ]
  },
  {
   "cell_type": "markdown",
   "id": "611e0290",
   "metadata": {},
   "source": [
    "Truncated SVD는 $\\sum$의 대각원소 중에 상위 몇 개만 추출해서 여기에 대응하는 U와 V의 원소도 함께 제거해 더욱 차원을 줄인 형태로\n",
    "분해하는 것."
   ]
  },
  {
   "cell_type": "markdown",
   "id": "20b67915",
   "metadata": {},
   "source": [
    "이렇게 분해하면 인위적으로 더 작은 차원의 $U, \\sum, V^T$로 분해하기 때문에 원본 행렬을 정확하게 다시 원복할 수는 없다."
   ]
  },
  {
   "cell_type": "markdown",
   "id": "5e762060",
   "metadata": {},
   "source": [
    "#### 사이킷런 Truncated SVD 클래스를 이용한 변환"
   ]
  },
  {
   "cell_type": "code",
   "execution_count": 37,
   "id": "b846d517",
   "metadata": {
    "scrolled": true
   },
   "outputs": [
    {
     "data": {
      "image/png": "[encoded data removed]",
      "text/plain": [
       "<Figure size 432x288 with 1 Axes>"
      ]
     },
     "metadata": {
      "needs_background": "light"
     },
     "output_type": "display_data"
    }
   ],
   "source": [
    "from sklearn.datasets import load_iris\n",
    "from sklearn.decomposition import TruncatedSVD\n",
    "import matplotlib.pyplot as plt\n",
    "import pandas as pd\n",
    "\n",
    "iris = load_iris()\n",
    "\n",
    "tsvd = TruncatedSVD(n_components=2)\n",
    "tsvd.fit(iris.data)\n",
    "tsvd_iris = tsvd.transform(iris.data)\n",
    "iris_tsvd_df = pd.DataFrame(tsvd_iris, columns = ['tsvd_component_1', 'tsvd_component_2'])\n",
    "iris_tsvd_df['target'] = iris.target\n",
    "\n",
    "markers = ['^', 's', 'o']\n",
    "\n",
    "for i, marker in enumerate(markers):\n",
    "    tsvd_x = iris_tsvd_df[iris_tsvd_df['target']==i]['tsvd_component_1']\n",
    "    tsvd_y= iris_tsvd_df[iris_tsvd_df['target']==i]['tsvd_component_2']\n",
    "    plt.scatter(tsvd_x, tsvd_y, marker=marker, label=iris.target_names[i])\n",
    "    \n",
    "plt.legend()\n",
    "plt.xlabel('tsvd_component_1')\n",
    "plt.ylabel('tsvd_component_2')\n",
    "plt.show()\n"
   ]
  },
  {
   "cell_type": "markdown",
   "id": "a0fbdc58",
   "metadata": {},
   "source": [
    "Truncated SVD 변환 역시 PCA와 유사하게 변환 후에 품종별로 어느 정도 클러스터링이 가능할 정도로 각 변환 속성으로 뛰어난 고유성을 가지고 있음을 알 수 있다."
   ]
  },
  {
   "cell_type": "markdown",
   "id": "10d6d613",
   "metadata": {},
   "source": [
    "#### 05. NMF(Non-Negative Matrix Factorization)"
   ]
  },
  {
   "cell_type": "markdown",
   "id": "541a09dd",
   "metadata": {},
   "source": [
    "#### NMF 개요"
   ]
  },
  {
   "cell_type": "markdown",
   "id": "719e9c46",
   "metadata": {},
   "source": [
    "NMF는 원본 행렬 내의 모든 원소 값이 모두 양수(0 이상)라는게 보장되면,두 개의 기반 양수 행렬로 분해될 수 있는 기법을 지칭."
   ]
  },
  {
   "cell_type": "markdown",
   "id": "b920d4ab",
   "metadata": {},
   "source": [
    "ex) 4 x 6 원본 행렬 $V$는 4 x 2행렬 $W$와 2 x 6 행렬 $H$로 근사해 분해될 수 있다.<br>\n",
    "이렇게 분해된 행렬은 잠재 요소를 특성으로 가지게 된다.<br>\n",
    "\n",
    "NMF는 차원 축소를 통한 잠재 요소 도출로 이미지 변환 및 압축, 텍스트의 토픽 도출 등의 영역에서 사용되고 있다."
   ]
  },
  {
   "cell_type": "code",
   "execution_count": 39,
   "id": "9d08a0d9",
   "metadata": {
    "scrolled": true
   },
   "outputs": [
    {
     "data": {
      "image/png": "[encoded data removed]",
      "text/plain": [
       "<Figure size 432x288 with 1 Axes>"
      ]
     },
     "metadata": {
      "needs_background": "light"
     },
     "output_type": "display_data"
    }
   ],
   "source": [
    "from sklearn.datasets import load_iris\n",
    "from sklearn.decomposition import NMF\n",
    "\n",
    "import matplotlib.pyplot as plt\n",
    "\n",
    "iris = load_iris()\n",
    "\n",
    "nmf = NMF(n_components=2)\n",
    "nmf.fit(iris.data)\n",
    "nmf_iris = nmf.transform(iris.data)\n",
    "\n",
    "plt.scatter(nmf_iris[:, 0], nmf_iris[:, 1], c=iris.target)\n",
    "plt.xlabel('nmf_component_1')\n",
    "plt.ylabel('nmf_component_2')\n",
    "plt.show()"
   ]
  },
  {
   "cell_type": "markdown",
   "id": "96e190d8",
   "metadata": {},
   "source": [
    "### 06. 정리"
   ]
  },
  {
   "cell_type": "markdown",
   "id": "b6b2c92b",
   "metadata": {},
   "source": [
    "많은 피처로 이뤄진 데이터 세트를 PCA같은 차원 축소를 통해 더욱 직관적으로 이해할 수 있다.<br>\n",
    "차원 축소는 단순히 피처의 개수를 줄이는 개념보다는 이를 통해 데이터를 잘 설명할 수 있는 잠재적인 요소를 추출하는 데 큰 의미가 있다."
   ]
  }
 ],
 "metadata": {
  "kernelspec": {
   "display_name": "Python 3",
   "language": "python",
   "name": "python3"
  },
  "language_info": {
   "codemirror_mode": {
    "name": "ipython",
    "version": 3
   },
   "file_extension": ".py",
   "mimetype": "text/x-python",
   "name": "python",
   "nbconvert_exporter": "python",
   "pygments_lexer": "ipython3",
   "version": "3.8.8"
  }
 },
 "nbformat": 4,
 "nbformat_minor": 5
}
