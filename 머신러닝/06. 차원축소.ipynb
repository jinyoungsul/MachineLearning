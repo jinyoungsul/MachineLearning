{
 "cells": [
  {
   "cell_type": "markdown",
   "id": "671e29f3",
   "metadata": {},
   "source": [
    "## Chapter 6. 차원축소"
   ]
  },
  {
   "cell_type": "markdown",
   "id": "8e77c82f",
   "metadata": {},
   "source": [
    "### 01. 차원 축소(Dimension Reduction) 개요"
   ]
  },
  {
   "cell_type": "markdown",
   "id": "810d93ba",
   "metadata": {},
   "source": [
    "차원축소는 매우 많은 피처로 구성된 다차원 데이터 세트의 차원을 축소해 새로운 차원의 데이터 세트를 생성하는 것.\n",
    "\n",
    "일반적으로 <b>피처 선택(feature selection)</b>과 **피처 추출(feature extraction)**로 나눌 수 있다.\n",
    "\n",
    "**피처 선택**은 특정 피처에 종속성이 강한 불필요한 피처는 아예 제거하고, 데이터의 특징을 잘 나타내는 주요 피처만 선택하는 것.<br>\n",
    "**피처 추출**은 기존 피처를 저차원의 중요 피처로 압축해서 추출하는 것. 기존 피처를 단순 압축이 아닌, 피처를 함축적으로 더 잘 설명할 수 있는 또 다른\n",
    "공간으로 매핑해 추출하는것.\n"
   ]
  },
  {
   "cell_type": "markdown",
   "id": "48841f9c",
   "metadata": {},
   "source": [
    "차원 축소는 단순히 데이터의 압축을 의미하는 것이 아니다. 더 중요한 의미는 차원 축소를 통해 데이터를 잘 성명할 수 있는 잠재적인 요소를\n",
    "추출하는 데에 있다. <br>\n",
    "PCA, SVD, NMF는 이처럼 잠재적인 요소를 찾는 대표적인 차원 축소 알고리즘<br>\n",
    "매우 많은 차원을 가지고 있는 이미지나 텍스트에서 차원 축소를 통해 잠재적인 의미를 찾아 주는 데 이 알고리즘이 잘 활용되고 있습니다."
   ]
  },
  {
   "cell_type": "markdown",
   "id": "62aa0303",
   "metadata": {},
   "source": [
    "- 이미지 영역<br>\n",
    "매우 많은 픽셀로 이뤄진 이미지 데이터에서 잠재된 특성을 피처로 도출해 함축적 형태의 이미지 변환과 압축을 수행할 수 있음.<br>\n",
    "이렇게 변환된 이미지는 원본 이미지보다 훨씬 적은 차원이기 때문에 이미지 분류 등의 분류 수행시 과적합 영향력이 작아져서 오히려\n",
    "원본 데이터로 예측하는 것보다 예측 성능을 더 끌어 올릴 수 있음.\n",
    "\n",
    "- 텍스트 영역<br>\n",
    "문서 내 단어들의 구성에서 숨겨져 있는 시맨틱 의미나 토픽을 잠재 요소로 간주하고 이를 찾아낼 수 있음.<br>\n",
    "SVD와 NMF는 이러한 시맨틱 토픽 모델링을 위한 기반 알고리즘으로 사용됨."
   ]
  },
  {
   "cell_type": "markdown",
   "id": "5bb18129",
   "metadata": {},
   "source": [
    "### 02. PCA(Pricipal Component Analysis)"
   ]
  },
  {
   "cell_type": "markdown",
   "id": "42719233",
   "metadata": {},
   "source": [
    "#### PCA 개요"
   ]
  },
  {
   "cell_type": "markdown",
   "id": "c00586e1",
   "metadata": {},
   "source": [
    "PCA(주성분 분석)는 가장 대표적인 차원 축소 기법.<br>\n",
    "PCA는 여러 변수 간에 존재하는 상관관계를 이용해 이를 대표하는 주성분을 추출해 차원을 축소 하는 기법.<br>\n",
    "PCA로 차원을 축소할 때는 기존 데이터의 정보 유실이 최소화되는 것이 당연하다.<br>\n",
    "이를 위해서 PCA는 가장 높은 분산을 가지는 데이터의 축을 찾아 이 축으로 차원을 축소하는데 이것이 주성분이 된다.<br>\n",
    "(즉, 분산이 데이터의 특성을 가장 잘 나타내는 것으로 간주)"
   ]
  },
  {
   "cell_type": "markdown",
   "id": "1b100764",
   "metadata": {},
   "source": [
    "PCA를 선형대수 관점에서 해석해 보면, 입력 데이터의 공분산(Covariance Matrix)을 고유값 분해하고,<br>\n",
    "이렇게 구한 고유벡터에 입력 데이터를 선형변환하는 것.<br>\n",
    "이 고유벡터가 PCA의 주성분 벡터로서 입력 데이터의 분산이 큰 방향을 나타낸다.<br>\n",
    "\n",
    "**고유값(eigenvalue)**은 고유벡터의 크기를 나타내며, 동시에 입력 데이터의 분산을 나타낸다.<br>\n",
    "**고유벡터(eigenvector)**는 행렬A를 곱하더라도 방향이 변하지 않고 그 크기만 변하는 벡터를 지칭.<br>\n",
    "\n",
    "선형변환은 특정 벡터에 행렬 A를 곱해 새로운 벡터로 변환하는 것을 의미.<br>\n",
    "분산은 한 개의 특정한 변수의 데이터 변동을 의미하나, 공분산은 두 변수 간의 변동을 의미.\n",
    "\n",
    "**입력데이터의 공분산 행렬이 고유벡터와 고유값으로 분해될 수 있으며, 이렇게 분해된 고유벡터를 이용해 입력 데이터를 선형 변환하는 방식이 PCA**"
   ]
  },
  {
   "cell_type": "code",
   "execution_count": 2,
   "id": "c6abb8df",
   "metadata": {
    "scrolled": true
   },
   "outputs": [
    {
     "data": {
      "text/html": [
       "<div>\n",
       "<style scoped>\n",
       "    .dataframe tbody tr th:only-of-type {\n",
       "        vertical-align: middle;\n",
       "    }\n",
       "\n",
       "    .dataframe tbody tr th {\n",
       "        vertical-align: top;\n",
       "    }\n",
       "\n",
       "    .dataframe thead th {\n",
       "        text-align: right;\n",
       "    }\n",
       "</style>\n",
       "<table border=\"1\" class=\"dataframe\">\n",
       "  <thead>\n",
       "    <tr style=\"text-align: right;\">\n",
       "      <th></th>\n",
       "      <th>sepal_length</th>\n",
       "      <th>sepal_width</th>\n",
       "      <th>petal_length</th>\n",
       "      <th>petal_width</th>\n",
       "      <th>target</th>\n",
       "    </tr>\n",
       "  </thead>\n",
       "  <tbody>\n",
       "    <tr>\n",
       "      <th>0</th>\n",
       "      <td>5.1</td>\n",
       "      <td>3.5</td>\n",
       "      <td>1.4</td>\n",
       "      <td>0.2</td>\n",
       "      <td>0</td>\n",
       "    </tr>\n",
       "    <tr>\n",
       "      <th>1</th>\n",
       "      <td>4.9</td>\n",
       "      <td>3.0</td>\n",
       "      <td>1.4</td>\n",
       "      <td>0.2</td>\n",
       "      <td>0</td>\n",
       "    </tr>\n",
       "    <tr>\n",
       "      <th>2</th>\n",
       "      <td>4.7</td>\n",
       "      <td>3.2</td>\n",
       "      <td>1.3</td>\n",
       "      <td>0.2</td>\n",
       "      <td>0</td>\n",
       "    </tr>\n",
       "    <tr>\n",
       "      <th>3</th>\n",
       "      <td>4.6</td>\n",
       "      <td>3.1</td>\n",
       "      <td>1.5</td>\n",
       "      <td>0.2</td>\n",
       "      <td>0</td>\n",
       "    </tr>\n",
       "    <tr>\n",
       "      <th>4</th>\n",
       "      <td>5.0</td>\n",
       "      <td>3.6</td>\n",
       "      <td>1.4</td>\n",
       "      <td>0.2</td>\n",
       "      <td>0</td>\n",
       "    </tr>\n",
       "    <tr>\n",
       "      <th>...</th>\n",
       "      <td>...</td>\n",
       "      <td>...</td>\n",
       "      <td>...</td>\n",
       "      <td>...</td>\n",
       "      <td>...</td>\n",
       "    </tr>\n",
       "    <tr>\n",
       "      <th>145</th>\n",
       "      <td>6.7</td>\n",
       "      <td>3.0</td>\n",
       "      <td>5.2</td>\n",
       "      <td>2.3</td>\n",
       "      <td>2</td>\n",
       "    </tr>\n",
       "    <tr>\n",
       "      <th>146</th>\n",
       "      <td>6.3</td>\n",
       "      <td>2.5</td>\n",
       "      <td>5.0</td>\n",
       "      <td>1.9</td>\n",
       "      <td>2</td>\n",
       "    </tr>\n",
       "    <tr>\n",
       "      <th>147</th>\n",
       "      <td>6.5</td>\n",
       "      <td>3.0</td>\n",
       "      <td>5.2</td>\n",
       "      <td>2.0</td>\n",
       "      <td>2</td>\n",
       "    </tr>\n",
       "    <tr>\n",
       "      <th>148</th>\n",
       "      <td>6.2</td>\n",
       "      <td>3.4</td>\n",
       "      <td>5.4</td>\n",
       "      <td>2.3</td>\n",
       "      <td>2</td>\n",
       "    </tr>\n",
       "    <tr>\n",
       "      <th>149</th>\n",
       "      <td>5.9</td>\n",
       "      <td>3.0</td>\n",
       "      <td>5.1</td>\n",
       "      <td>1.8</td>\n",
       "      <td>2</td>\n",
       "    </tr>\n",
       "  </tbody>\n",
       "</table>\n",
       "<p>150 rows × 5 columns</p>\n",
       "</div>"
      ],
      "text/plain": [
       "     sepal_length  sepal_width  petal_length  petal_width  target\n",
       "0             5.1          3.5           1.4          0.2       0\n",
       "1             4.9          3.0           1.4          0.2       0\n",
       "2             4.7          3.2           1.3          0.2       0\n",
       "3             4.6          3.1           1.5          0.2       0\n",
       "4             5.0          3.6           1.4          0.2       0\n",
       "..            ...          ...           ...          ...     ...\n",
       "145           6.7          3.0           5.2          2.3       2\n",
       "146           6.3          2.5           5.0          1.9       2\n",
       "147           6.5          3.0           5.2          2.0       2\n",
       "148           6.2          3.4           5.4          2.3       2\n",
       "149           5.9          3.0           5.1          1.8       2\n",
       "\n",
       "[150 rows x 5 columns]"
      ]
     },
     "execution_count": 2,
     "metadata": {},
     "output_type": "execute_result"
    }
   ],
   "source": [
    "from sklearn.datasets import load_iris\n",
    "import pandas as pd\n",
    "import matplotlib.pyplot as plt\n",
    "import warnings\n",
    "warnings.filterwarnings('ignore')\n",
    "\n",
    "iris = load_iris()\n",
    "columns = ['sepal_length', 'sepal_width', 'petal_length', 'petal_width']\n",
    "iris_df = pd.DataFrame(iris.data, columns = columns)\n",
    "iris_df['target'] = iris.target\n",
    "iris_df"
   ]
  },
  {
   "cell_type": "code",
   "execution_count": 14,
   "id": "2484168f",
   "metadata": {
    "scrolled": true
   },
   "outputs": [
    {
     "data": {
      "image/png": "[encoded data removed]",
      "text/plain": [
       "<Figure size 432x288 with 1 Axes>"
      ]
     },
     "metadata": {
      "needs_background": "light"
     },
     "output_type": "display_data"
    }
   ],
   "source": [
    "markers = ['^', 's', 'o']\n",
    "\n",
    "for i, marker in enumerate(markers):\n",
    "    sepal_length = iris_df[iris_df['target']==i]['sepal_length']\n",
    "    sepal_width = iris_df[iris_df['target']==i]['sepal_width']\n",
    "    plt.scatter(sepal_length, sepal_width, marker=marker, label=iris.target_names[i])\n",
    "\n",
    "plt.legend()\n",
    "plt.xlabel('sepal length')\n",
    "plt.ylabel('sepal width')\n",
    "plt.show()"
   ]
  },
  {
   "cell_type": "markdown",
   "id": "c3c06966",
   "metadata": {},
   "source": [
    "PCA는 여러 속성의 값을 연산해야 하므로 속성의 스케일에 영향을 받는다.<br> 여러 속성을 PCA로 압축하기 전에 각 속성값을 동일한 스케일로 변환하는 것이 필요하다."
   ]
  },
  {
   "cell_type": "code",
   "execution_count": 3,
   "id": "5b723dd8",
   "metadata": {},
   "outputs": [],
   "source": [
    "from sklearn.preprocessing import StandardScaler\n",
    "\n",
    "iris_scaled = StandardScaler().fit_transform(iris_df.iloc[:, :-1])"
   ]
  },
  {
   "cell_type": "markdown",
   "id": "10215b17",
   "metadata": {},
   "source": [
    "스케일링이 적용된 데이터 세트에 PCA를 적용해 4차원의 붓꽃 데이터를 2차원의 PCA 데이터로 변환"
   ]
  },
  {
   "cell_type": "code",
   "execution_count": 4,
   "id": "8d19c303",
   "metadata": {
    "scrolled": true
   },
   "outputs": [
    {
     "name": "stdout",
     "output_type": "stream",
     "text": [
      "(150, 2)\n"
     ]
    }
   ],
   "source": [
    "from sklearn.decomposition import PCA\n",
    "\n",
    "pca = PCA(n_components=2)\n",
    "iris_pca = pca.fit_transform(iris_scaled)\n",
    "print(iris_pca.shape)"
   ]
  },
  {
   "cell_type": "code",
   "execution_count": 5,
   "id": "87116a12",
   "metadata": {
    "scrolled": true
   },
   "outputs": [
    {
     "data": {
      "text/html": [
       "<div>\n",
       "<style scoped>\n",
       "    .dataframe tbody tr th:only-of-type {\n",
       "        vertical-align: middle;\n",
       "    }\n",
       "\n",
       "    .dataframe tbody tr th {\n",
       "        vertical-align: top;\n",
       "    }\n",
       "\n",
       "    .dataframe thead th {\n",
       "        text-align: right;\n",
       "    }\n",
       "</style>\n",
       "<table border=\"1\" class=\"dataframe\">\n",
       "  <thead>\n",
       "    <tr style=\"text-align: right;\">\n",
       "      <th></th>\n",
       "      <th>pca_component_1</th>\n",
       "      <th>pca_component_2</th>\n",
       "      <th>target</th>\n",
       "    </tr>\n",
       "  </thead>\n",
       "  <tbody>\n",
       "    <tr>\n",
       "      <th>0</th>\n",
       "      <td>-2.264703</td>\n",
       "      <td>0.480027</td>\n",
       "      <td>0</td>\n",
       "    </tr>\n",
       "    <tr>\n",
       "      <th>1</th>\n",
       "      <td>-2.080961</td>\n",
       "      <td>-0.674134</td>\n",
       "      <td>0</td>\n",
       "    </tr>\n",
       "    <tr>\n",
       "      <th>2</th>\n",
       "      <td>-2.364229</td>\n",
       "      <td>-0.341908</td>\n",
       "      <td>0</td>\n",
       "    </tr>\n",
       "    <tr>\n",
       "      <th>3</th>\n",
       "      <td>-2.299384</td>\n",
       "      <td>-0.597395</td>\n",
       "      <td>0</td>\n",
       "    </tr>\n",
       "    <tr>\n",
       "      <th>4</th>\n",
       "      <td>-2.389842</td>\n",
       "      <td>0.646835</td>\n",
       "      <td>0</td>\n",
       "    </tr>\n",
       "  </tbody>\n",
       "</table>\n",
       "</div>"
      ],
      "text/plain": [
       "   pca_component_1  pca_component_2  target\n",
       "0        -2.264703         0.480027       0\n",
       "1        -2.080961        -0.674134       0\n",
       "2        -2.364229        -0.341908       0\n",
       "3        -2.299384        -0.597395       0\n",
       "4        -2.389842         0.646835       0"
      ]
     },
     "execution_count": 5,
     "metadata": {},
     "output_type": "execute_result"
    }
   ],
   "source": [
    "pca_columns = ['pca_component_1', 'pca_component_2']\n",
    "iris_df_pca = pd.DataFrame(iris_pca, columns=pca_columns)\n",
    "iris_df_pca['target'] = iris.target\n",
    "iris_df_pca.head()"
   ]
  },
  {
   "cell_type": "code",
   "execution_count": 9,
   "id": "cc88c204",
   "metadata": {
    "scrolled": true
   },
   "outputs": [
    {
     "data": {
      "image/png": "[encoded data removed]",
      "text/plain": [
       "<Figure size 432x288 with 1 Axes>"
      ]
     },
     "metadata": {
      "needs_background": "light"
     },
     "output_type": "display_data"
    }
   ],
   "source": [
    "markers = ['^', 's', 'o']\n",
    "\n",
    "for i, marker in enumerate(markers):\n",
    "    pca_x = iris_df_pca[iris_df_pca['target']==i]['pca_component_1']\n",
    "    pca_y = iris_df_pca[iris_df_pca['target']==i]['pca_component_2']\n",
    "    plt.scatter(pca_x, pca_y, marker=marker, label = iris.target_names[i])\n",
    "    \n",
    "plt.legend()\n",
    "plt.xlabel('pca_component_1')\n",
    "plt.ylabel('pca_component_2')\n",
    "plt.show()"
   ]
  },
  {
   "cell_type": "markdown",
   "id": "296f92e0",
   "metadata": {},
   "source": [
    "PCA로 변환 후에도 pca_component_1 축을 기반으로 setosa 품종은 명확하게 구분이 가능.<br>\n",
    "versicolor와 virginica는 pca_component_1 축을 기반으로 서로 겹치는 부분이 일부 존재하지만, 비교적 구분이 잘 됨.<br>\n",
    "이는 PCA의 첫 번째 새로운 축인 pca_component_1이 원본 데이터의 변동성을 잘 반영했기 때문."
   ]
  },
  {
   "cell_type": "code",
   "execution_count": 11,
   "id": "7445da0d",
   "metadata": {
    "scrolled": true
   },
   "outputs": [
    {
     "name": "stdout",
     "output_type": "stream",
     "text": [
      "[0.72962445 0.22850762]\n"
     ]
    }
   ],
   "source": [
    "print(pca.explained_variance_ratio_)"
   ]
  },
  {
   "cell_type": "markdown",
   "id": "b2f1cd76",
   "metadata": {},
   "source": [
    "첫 번째 PCA 변환 요소인 pca_component_1이 전체 변동성의 약 72.9%를 차지하며, 두 번째인 pca_component_2가 약 22.8%를 차지.<br>\n",
    "따라서 PCA를 2개 요소로만 변환해도 원본 데이터의 변동성을 95% 설명할 수 있다."
   ]
  },
  {
   "cell_type": "code",
   "execution_count": 15,
   "id": "723fd1c4",
   "metadata": {},
   "outputs": [
    {
     "name": "stdout",
     "output_type": "stream",
     "text": [
      "원본 데이터 평균 정확도 : 0.967\n"
     ]
    }
   ],
   "source": [
    "from sklearn.ensemble import RandomForestClassifier\n",
    "from sklearn.model_selection import cross_val_score\n",
    "import numpy as np\n",
    "\n",
    "rf_clf = RandomForestClassifier(random_state=42)\n",
    "\n",
    "scores = cross_val_score(rf_clf, iris.data, iris.target, scoring='accuracy', cv=3)\n",
    "avg_score = np.mean(scores)\n",
    "print('원본 데이터 평균 정확도 : {0:.3f}'.format(avg_score))"
   ]
  },
  {
   "cell_type": "code",
   "execution_count": 16,
   "id": "a6079f8e",
   "metadata": {
    "scrolled": true
   },
   "outputs": [
    {
     "name": "stdout",
     "output_type": "stream",
     "text": [
      "PCA 변환 데이터 평균 정확도 : 0.887\n"
     ]
    }
   ],
   "source": [
    "rf_clf = RandomForestClassifier(random_state=42)\n",
    "\n",
    "scores = cross_val_score(rf_clf, iris_pca, iris.target, scoring='accuracy', cv=3)\n",
    "avg_score = np.mean(scores)\n",
    "print('PCA 변환 데이터 평균 정확도 : {0:.3f}'.format(avg_score))"
   ]
  },
  {
   "cell_type": "markdown",
   "id": "cb84b082",
   "metadata": {},
   "source": [
    "예측 성능의 정확도가 원본 데이터 대비 8% 하락했는데, 4개의 속성이 2개로, 속성 개수가 50% 감소한 것을 고려한다면 PCA 변환 후에도<br>\n",
    "원본 데이터의 특성을 상당 부분 유지하고 있음을 알 수 있다."
   ]
  },
  {
   "cell_type": "markdown",
   "id": "c297796b",
   "metadata": {},
   "source": [
    "### LDA(Linear Discriminant Analysis)"
   ]
  },
  {
   "cell_type": "markdown",
   "id": "a3d8fe13",
   "metadata": {},
   "source": [
    "#### LDA 개요"
   ]
  },
  {
   "cell_type": "markdown",
   "id": "83a9cfa0",
   "metadata": {},
   "source": [
    "LDA는 선형 판별 분석법으로 불리며, 지도학습의 분류에서 사용하기 쉽도록 개별 클래스를 분별할 수 있는 기준을 최대한 유지하면서 차원을 축소한다.<br>\n",
    "LDA는 특정 공간상에서 클래스 분리를 최대하하는 축을 찾기 위해 클래스 간 분산(between-class scatter)\n",
    "과 클래스 내 분산(within-class scatter)의 비율을 최대화하는 방식으로 차원을 축소.<br>\n",
    "즉, 클래스 간 분산은 최대한 크게 가져가고, 클래스 내부의 분산은 최대한 작게 가져가는 방식.<br>\n",
    "\n",
    "클래스 간 분산과 클래스 내부 분산 행렬을 생성한 뒤, 이 행렬에 기반해 고유벡터를 구하고 입력 데이터를 투영한다는 점."
   ]
  },
  {
   "cell_type": "markdown",
   "id": "7351b932",
   "metadata": {},
   "source": [
    "#### 붓꽃 데이터 세트에 LDA 적용하기"
   ]
  },
  {
   "cell_type": "code",
   "execution_count": 31,
   "id": "4ea9d362",
   "metadata": {},
   "outputs": [
    {
     "data": {
      "image/png": "[encoded data removed]",
      "text/plain": [
       "<Figure size 432x288 with 1 Axes>"
      ]
     },
     "metadata": {
      "needs_background": "light"
     },
     "output_type": "display_data"
    }
   ],
   "source": [
    "from sklearn.datasets import load_iris\n",
    "from sklearn.discriminant_analysis import LinearDiscriminantAnalysis\n",
    "from sklearn.preprocessing import StandardScaler\n",
    "import pandas as pd\n",
    "import matplotlib.pyplot as plt\n",
    "\n",
    "iris = load_iris()\n",
    "scaled_iris = StandardScaler().fit_transform(iris.data)\n",
    "\n",
    "lda = LinearDiscriminantAnalysis(n_components=2)\n",
    "lda.fit(scaled_iris, iris.target)\n",
    "iris_lda = lda.transform(scaled_iris)\n",
    "\n",
    "columns = ['lda_component_1', 'lda_component_2']\n",
    "iris_df_lda = pd.DataFrame(iris_lda, columns=columns)\n",
    "iris_df_lda['target'] = iris.target\n",
    "\n",
    "markers = ['^', 's', 'o']\n",
    "\n",
    "for i, marker in enumerate(markers):\n",
    "    lda_x = iris_df_lda[iris_df_lda['target']==i]['lda_component_1']\n",
    "    lda_y = iris_df_lda[iris_df_lda['target']==i]['lda_component_2']\n",
    "    plt.scatter(lda_x, lda_y, marker=marker, label=iris.target_names[i])\n",
    "    \n",
    "plt.legend()\n",
    "plt.xlabel('lda_component_1')\n",
    "plt.ylabel('lda_component_2')\n",
    "plt.show()"
   ]
  }
 ],
 "metadata": {
  "kernelspec": {
   "display_name": "Python 3",
   "language": "python",
   "name": "python3"
  },
  "language_info": {
   "codemirror_mode": {
    "name": "ipython",
    "version": 3
   },
   "file_extension": ".py",
   "mimetype": "text/x-python",
   "name": "python",
   "nbconvert_exporter": "python",
   "pygments_lexer": "ipython3",
   "version": "3.8.8"
  }
 },
 "nbformat": 4,
 "nbformat_minor": 5
}
